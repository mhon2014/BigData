{
 "cells": [
  {
   "cell_type": "markdown",
   "id": "cd35a78d-9cae-4954-89ca-26227cb54a06",
   "metadata": {},
   "source": [
    "# MapReduce on Movies\n",
    "Given a dataset named IMDB_Movies.csv, which is available on Canvas, use the Spark Resilient Distributed Dataset (RDD) model to count the number of times a country is involved in a movie. Your output will be key-pairs represented\n",
    "as [country, text-based bar-chart (count)] and sorted by bar-length. You may create the text-based bar-chart\n",
    "using an extended ASCII character such as the block character (ASCII character 219. See more ASCII characters here:\n",
    "https://theasciicode.com.ar/). For scaling, let 1 ASCII character = 1000 movies. Make sure to collect and\n",
    "display your results in your notebook using the rdd.collect() method.\n",
    "\n",
    "RDD functions Allowed:\n",
    "\n",
    "• sc.textFile()\n",
    "\n",
    "• map()\n",
    "\n",
    "• flatMap\n",
    "\n",
    "• reduce()\n",
    "\n",
    "• reduceByKey\n",
    "\n",
    "• sortBy()\n",
    "\n",
    "• groupBy()"
   ]
  },
  {
   "cell_type": "code",
   "execution_count": 1,
   "id": "4352559b-3d09-445c-a28e-cc73d936c64b",
   "metadata": {},
   "outputs": [],
   "source": [
    "from pyspark.sql import SparkSession\n",
    "import re"
   ]
  },
  {
   "cell_type": "code",
   "execution_count": 2,
   "id": "fee53415-ee4a-4854-a1e2-efa3e6aa3e2a",
   "metadata": {},
   "outputs": [
    {
     "name": "stderr",
     "output_type": "stream",
     "text": [
      "Setting default log level to \"WARN\".\n",
      "To adjust logging level use sc.setLogLevel(newLevel). For SparkR, use setLogLevel(newLevel).\n"
     ]
    },
    {
     "name": "stdout",
     "output_type": "stream",
     "text": [
      "22/10/22 22:50:26 WARN NativeCodeLoader: Unable to load native-hadoop library for your platform... using builtin-java classes where applicable\n"
     ]
    }
   ],
   "source": [
    "spark = SparkSession.builder.master('local[*]') \\\n",
    "                         .appName('CountryCount') \\\n",
    "                         .getOrCreate()"
   ]
  },
  {
   "cell_type": "code",
   "execution_count": 3,
   "id": "b458373d-3123-4a8b-be7e-9fd2207bc143",
   "metadata": {},
   "outputs": [],
   "source": [
    "sc = spark.sparkContext.textFile(\"IMDb_movies.csv\")\n"
   ]
  },
  {
   "cell_type": "code",
   "execution_count": 4,
   "id": "8b53847d-d79e-44e4-aab4-0c6e78e52330",
   "metadata": {},
   "outputs": [
    {
     "name": "stdout",
     "output_type": "stream",
     "text": [
      "IMDb_movies.csv MapPartitionsRDD[1] at textFile at NativeMethodAccessorImpl.java:0\n"
     ]
    }
   ],
   "source": [
    "print(sc)"
   ]
  },
  {
   "cell_type": "code",
   "execution_count": 5,
   "id": "c78860a2-b5a7-4aea-a5ea-3d66d54b8bee",
   "metadata": {},
   "outputs": [
    {
     "name": "stderr",
     "output_type": "stream",
     "text": [
      "[Stage 0:>                                                          (0 + 2) / 2]\r"
     ]
    },
    {
     "name": "stdout",
     "output_type": "stream",
     "text": [
      "Count : 85856\n"
     ]
    },
    {
     "name": "stderr",
     "output_type": "stream",
     "text": [
      "                                                                                \r"
     ]
    }
   ],
   "source": [
    "print(\"Count : \"+str(sc.count()))"
   ]
  },
  {
   "cell_type": "code",
   "execution_count": 6,
   "id": "5ccaf920-9889-4fdd-93bd-16472ca06c56",
   "metadata": {},
   "outputs": [
    {
     "data": {
      "text/plain": [
       "['imdb_title_id,title,original_title,year,date_published,genre,duration,country,language,director,writer,production_company,actors,description,avg_vote,votes,budget,usa_gross_income,worlwide_gross_income,metascore,reviews_from_users,reviews_from_critics',\n",
       " 'tt0000009,Miss Jerry,Miss Jerry,1894,1894-10-09,Romance,45,USA,None,Alexander Black,Alexander Black,Alexander Black Photoplays,\"Blanche Bayliss, William Courtenay, Chauncey Depew\",The adventures of a female reporter in the 1890s.,5.9,154,,,,,1.0,2.0',\n",
       " 'tt0000574,The Story of the Kelly Gang,The Story of the Kelly Gang,1906,1906-12-26,\"Biography, Crime, Drama\",70,Australia,None,Charles Tait,Charles Tait,J. and N. Tait,\"Elizabeth Tait, John Tait, Norman Campbell, Bella Cola, Will Coyne, Sam Crewes, Jack Ennis, John Forde, Vera Linden, Mr. Marshall, Mr. McKenzie, Frank Mills, Ollie Wilson\",True story of notorious Australian outlaw Ned Kelly (1855-80).,6.1,589,$ 2250,,,,7.0,7.0',\n",
       " 'tt0001892,Den sorte drøm,Den sorte drøm,1911,1911-08-19,Drama,53,\"Germany, Denmark\",,Urban Gad,\"Urban Gad, Gebhard Schätzler-Perasini\",Fotorama,\"Asta Nielsen, Valdemar Psilander, Gunnar Helsengreen, Emil Albes, Hugo Flink, Mary Hagen\",\"Two men of high rank are both wooing the beautiful and famous equestrian acrobat Stella. While Stella ignores the jeweler Hirsch, she accepts Count von Waldberg\\'s offer to follow her home, ...\",5.8,188,,,,,5.0,2.0',\n",
       " 'tt0002101,Cleopatra,Cleopatra,1912,1912-11-13,\"Drama, History\",100,USA,English,Charles L. Gaskill,Victorien Sardou,Helen Gardner Picture Players,\"Helen Gardner, Pearl Sindelar, Miss Fielding, Miss Robson, Helene Costello, Charles Sindelar, Mr. Howard, James R. Waite, Mr. Osborne, Harry Knowles, Mr. Paul, Mr. Brady, Mr. Corker\",The fabled queen of Egypt\\'s affair with Roman general Marc Antony is ultimately disastrous for both of them.,5.2,446,$ 45000,,,,25.0,3.0']"
      ]
     },
     "execution_count": 6,
     "metadata": {},
     "output_type": "execute_result"
    }
   ],
   "source": [
    "sc.take(5)"
   ]
  },
  {
   "cell_type": "code",
   "execution_count": 7,
   "id": "52d33050-0e73-46ef-8fce-6e40a0407b3c",
   "metadata": {
    "tags": []
   },
   "outputs": [],
   "source": [
    "def parse(text):\n",
    "    ### Parse values and return a list\n",
    "    parsedText = []\n",
    "    multipleValues = []\n",
    "    collect = False\n",
    "    \n",
    "    for word in text:\n",
    "        \n",
    "        if not word:\n",
    "            parsedText.append([word])\n",
    "            \n",
    "        elif word[0] == '\"' and not collect:\n",
    "            collect = True\n",
    "            multipleValues.append(word[1:])\n",
    "            \n",
    "        elif word[-1] == '\"':\n",
    "            collect = False\n",
    "            multipleValues.append(word[:-1])\n",
    "            parsedText.append(multipleValues.copy())\n",
    "            multipleValues.clear()\n",
    "\n",
    "        elif collect:\n",
    "            multipleValues.append(word)\n",
    "        else:\n",
    "            parsedText.append([word])\n",
    "            \n",
    "        # print(word)\n",
    "            \n",
    "    return parsedText\n",
    "    \n",
    "    "
   ]
  },
  {
   "cell_type": "code",
   "execution_count": 8,
   "id": "b109321e-496d-40dd-b2b8-30461f006cf4",
   "metadata": {},
   "outputs": [],
   "source": [
    "lines = sc.map(lambda line: parse(line.split(','))[7])"
   ]
  },
  {
   "cell_type": "code",
   "execution_count": 9,
   "id": "56412771-8f7b-40d0-9de7-d4c1c90d2de2",
   "metadata": {},
   "outputs": [
    {
     "data": {
      "text/plain": [
       "[['country'],\n",
       " ['USA'],\n",
       " ['Australia'],\n",
       " ['Germany', ' Denmark'],\n",
       " ['USA'],\n",
       " ['Italy'],\n",
       " ['USA'],\n",
       " ['Germany'],\n",
       " ['Italy'],\n",
       " ['Romania']]"
      ]
     },
     "execution_count": 9,
     "metadata": {},
     "output_type": "execute_result"
    }
   ],
   "source": [
    "lines.take(10)"
   ]
  },
  {
   "cell_type": "code",
   "execution_count": 10,
   "id": "87baecab-9dcf-47ae-9468-7cf15c5c79d7",
   "metadata": {},
   "outputs": [],
   "source": [
    "flatten = lines.flatMap(lambda text: [country.strip(' ') for country in text])"
   ]
  },
  {
   "cell_type": "code",
   "execution_count": 11,
   "id": "5eb2ffaa-4c0f-4d11-8a7b-148768bf34dd",
   "metadata": {},
   "outputs": [
    {
     "data": {
      "text/plain": [
       "['country',\n",
       " 'USA',\n",
       " 'Australia',\n",
       " 'Germany',\n",
       " 'Denmark',\n",
       " 'USA',\n",
       " 'Italy',\n",
       " 'USA',\n",
       " 'Germany',\n",
       " 'Italy']"
      ]
     },
     "execution_count": 11,
     "metadata": {},
     "output_type": "execute_result"
    }
   ],
   "source": [
    "flatten.take(10)"
   ]
  },
  {
   "cell_type": "code",
   "execution_count": 12,
   "id": "1e49e548-63f6-4cff-ab60-efe2b17ee890",
   "metadata": {
    "tags": []
   },
   "outputs": [],
   "source": [
    "count = flatten.map(lambda country: (country,1)) \\\n",
    "              .reduceByKey(lambda a,b: a + b)"
   ]
  },
  {
   "cell_type": "code",
   "execution_count": 13,
   "id": "caf93bee-a81e-47cb-8088-7fe676fca766",
   "metadata": {},
   "outputs": [
    {
     "name": "stderr",
     "output_type": "stream",
     "text": [
      "                                                                                \r"
     ]
    },
    {
     "data": {
      "text/plain": [
       "[('country', 1),\n",
       " ('USA', 34325),\n",
       " ('Australia', 1181),\n",
       " ('Denmark', 1026),\n",
       " ('France', 8311),\n",
       " ('Belgium', 1354),\n",
       " ('Hungary', 642),\n",
       " ('Mexico', 1173),\n",
       " ('Norway', 639),\n",
       " ('Austria', 448)]"
      ]
     },
     "execution_count": 13,
     "metadata": {},
     "output_type": "execute_result"
    }
   ],
   "source": [
    "count.take(10)"
   ]
  },
  {
   "cell_type": "code",
   "execution_count": 14,
   "id": "9465f231-597d-4260-9655-91a82bfdb33e",
   "metadata": {},
   "outputs": [],
   "source": [
    "def setBars(value):\n",
    "    # '█' = 9608 unicode\n",
    "    bars = value // 1000\n",
    "    return bars * chr(9608)\n",
    "\n",
    "def formatNumbers(value):\n",
    "    value /= 1000\n",
    "    return '%.2fk' % value\n",
    "    "
   ]
  },
  {
   "cell_type": "code",
   "execution_count": 15,
   "id": "c61a74e9-6fb4-4b84-96b8-121a59289e48",
   "metadata": {},
   "outputs": [],
   "source": [
    "bars = count.map(lambda x: (x[0], setBars(x[1]), formatNumbers(x[1])))"
   ]
  },
  {
   "cell_type": "code",
   "execution_count": 16,
   "id": "5a00889a-b3b7-415c-9067-017e03007497",
   "metadata": {},
   "outputs": [
    {
     "data": {
      "text/plain": [
       "[('country', '', '0.00k'),\n",
       " ('USA', '██████████████████████████████████', '34.33k'),\n",
       " ('Australia', '█', '1.18k'),\n",
       " ('Denmark', '█', '1.03k'),\n",
       " ('France', '████████', '8.31k'),\n",
       " ('Belgium', '█', '1.35k'),\n",
       " ('Hungary', '', '0.64k'),\n",
       " ('Mexico', '█', '1.17k'),\n",
       " ('Norway', '', '0.64k'),\n",
       " ('Austria', '', '0.45k')]"
      ]
     },
     "execution_count": 16,
     "metadata": {},
     "output_type": "execute_result"
    }
   ],
   "source": [
    "bars.take(10)"
   ]
  },
  {
   "cell_type": "code",
   "execution_count": 17,
   "id": "bd69f956-f433-4ac8-b404-d6c92bd940b2",
   "metadata": {},
   "outputs": [],
   "source": [
    "sortedOutput = bars.sortBy(lambda x: len(x[1]), ascending = False)"
   ]
  },
  {
   "cell_type": "code",
   "execution_count": 18,
   "id": "789f1b77-712e-4b93-91ec-26b86d8280bd",
   "metadata": {
    "tags": []
   },
   "outputs": [
    {
     "data": {
      "text/plain": [
       "[('USA', '██████████████████████████████████', '34.33k'),\n",
       " ('France', '████████', '8.31k'),\n",
       " ('UK', '███████', '7.49k'),\n",
       " ('India', '██████', '6.37k'),\n",
       " ('Italy', '█████', '5.06k'),\n",
       " ('Germany', '███', '3.72k'),\n",
       " ('Canada', '███', '3.62k'),\n",
       " ('Japan', '███', '3.70k'),\n",
       " ('Spain', '██', '2.73k'),\n",
       " ('Australia', '█', '1.18k')]"
      ]
     },
     "execution_count": 18,
     "metadata": {},
     "output_type": "execute_result"
    }
   ],
   "source": [
    "sortedOutput.take(10)"
   ]
  },
  {
   "cell_type": "code",
   "execution_count": 19,
   "id": "0a46ebe7-d7b0-4773-b288-f6f5175b5dc1",
   "metadata": {},
   "outputs": [],
   "source": [
    "sortedOutput.saveAsTextFile('CountryCount.txt')"
   ]
  },
  {
   "cell_type": "code",
   "execution_count": 20,
   "id": "d87e0696-783a-4521-ab43-228c8256ac62",
   "metadata": {},
   "outputs": [
    {
     "data": {
      "text/plain": [
       "[('USA', '██████████████████████████████████', '34.33k'),\n",
       " ('France', '████████', '8.31k'),\n",
       " ('UK', '███████', '7.49k'),\n",
       " ('India', '██████', '6.37k'),\n",
       " ('Italy', '█████', '5.06k'),\n",
       " ('Germany', '███', '3.72k'),\n",
       " ('Canada', '███', '3.62k'),\n",
       " ('Japan', '███', '3.70k'),\n",
       " ('Spain', '██', '2.73k'),\n",
       " ('Australia', '█', '1.18k'),\n",
       " ('Denmark', '█', '1.03k'),\n",
       " ('Belgium', '█', '1.35k'),\n",
       " ('Mexico', '█', '1.17k'),\n",
       " ('China', '█', '1.17k'),\n",
       " ('Netherlands', '█', '1.03k'),\n",
       " ('South Korea', '█', '1.30k'),\n",
       " ('Sweden', '█', '1.23k'),\n",
       " ('Russia', '█', '1.08k'),\n",
       " ('Hong Kong', '█', '1.88k'),\n",
       " ('Turkey', '█', '1.55k'),\n",
       " ('West Germany', '█', '1.11k'),\n",
       " ('country', '', '0.00k'),\n",
       " ('Hungary', '', '0.64k'),\n",
       " ('Norway', '', '0.64k'),\n",
       " ('Austria', '', '0.45k'),\n",
       " ('Soviet Union', '', '0.87k'),\n",
       " ('Switzerland', '', '0.64k'),\n",
       " ('Brazil', '', '0.98k'),\n",
       " ('Portugal', '', '0.43k'),\n",
       " ('Argentina', '', '0.85k'),\n",
       " ('Poland', '', '0.90k'),\n",
       " ('Finland', '', '0.68k'),\n",
       " ('Greece', '', '0.77k'),\n",
       " ('East Germany', '', '0.07k'),\n",
       " ('Albania', '', '0.04k'),\n",
       " ('Monaco', '', '0.03k'),\n",
       " ('Ireland', '', '0.48k'),\n",
       " ('Philippines', '', '0.38k'),\n",
       " ('South Africa', '', '0.33k'),\n",
       " ('Puerto Rico', '', '0.04k'),\n",
       " ('Algeria', '', '0.05k'),\n",
       " ('Lebanon', '', '0.07k'),\n",
       " ('Bermuda', '', '0.00k'),\n",
       " ('Ukraine', '', '0.14k'),\n",
       " ('Mauritania', '', '0.01k'),\n",
       " ('Iran', '', '0.74k'),\n",
       " ('Thailand', '', '0.36k'),\n",
       " ('Iceland', '', '0.16k'),\n",
       " ('Venezuela', '', '0.06k'),\n",
       " ('Peru', '', '0.08k'),\n",
       " ('Tunisia', '', '0.05k'),\n",
       " ('Angola', '', '0.01k'),\n",
       " ('Ecuador', '', '0.02k'),\n",
       " ('Andorra', '', '0.00k'),\n",
       " ('Ethiopia', '', '0.01k'),\n",
       " ('Libya', '', '0.00k'),\n",
       " ('Kuwait', '', '0.01k'),\n",
       " ('Saudi Arabia', '', '0.01k'),\n",
       " ('Suriname', '', '0.00k'),\n",
       " ('Vietnam', '', '0.06k'),\n",
       " ('Cyprus', '', '0.03k'),\n",
       " ('Botswana', '', '0.00k'),\n",
       " ('Nigeria', '', '0.04k'),\n",
       " ('Kenya', '', '0.02k'),\n",
       " ('Costa Rica', '', '0.02k'),\n",
       " ('Zambia', '', '0.00k'),\n",
       " ('Iraq', '', '0.02k'),\n",
       " ('Aruba', '', '0.01k'),\n",
       " ('Gabon', '', '0.00k'),\n",
       " ('North Korea', '', '0.01k'),\n",
       " ('Netherlands Antilles', '', '0.01k'),\n",
       " ('Gibraltar', '', '0.00k'),\n",
       " ('Ghana', '', '0.01k'),\n",
       " ('Uzbekistan', '', '0.00k'),\n",
       " ('Latvia', '', '0.07k'),\n",
       " ('Slovenia', '', '0.12k'),\n",
       " ('Kazakhstan', '', '0.04k'),\n",
       " ('Uruguay', '', '0.06k'),\n",
       " ('Slovakia', '', '0.10k'),\n",
       " ('Estonia', '', '0.11k'),\n",
       " ('Guinea-Bissau', '', '0.00k'),\n",
       " ('Cambodia', '', '0.02k'),\n",
       " ('Guatemala', '', '0.01k'),\n",
       " ('Cape Verde', '', '0.00k'),\n",
       " ('Pakistan', '', '0.09k'),\n",
       " ('Paraguay', '', '0.01k'),\n",
       " ('Bhutan', '', '0.01k'),\n",
       " ('Nepal', '', '0.03k'),\n",
       " ('Mozambique', '', '0.00k'),\n",
       " ('Trinidad and Tobago', '', '0.01k'),\n",
       " ('North Vietnam', '', '0.00k'),\n",
       " ('Bahrain', '', '0.00k'),\n",
       " ('Serbia and Montenegro', '', '0.01k'),\n",
       " ('Fiji', '', '0.00k'),\n",
       " ('Cayman Islands', '', '0.01k'),\n",
       " ('Kosovo', '', '0.02k'),\n",
       " ('British Virgin Islands', '', '0.00k'),\n",
       " ('Myanmar', '', '0.01k'),\n",
       " ('Liberia', '', '0.00k'),\n",
       " ('', '', '0.06k'),\n",
       " ('Montenegro', '', '0.01k'),\n",
       " ('Mauritius', '', '0.00k'),\n",
       " ('New Caledonia', '', '0.00k'),\n",
       " ('Honduras', '', '0.00k'),\n",
       " ('Reunion', '', '0.00k'),\n",
       " ('Korea', '', '0.00k'),\n",
       " ('Laos', '', '0.00k'),\n",
       " ('Equatorial Guinea', '', '0.00k'),\n",
       " ('Tanzania', '', '0.00k'),\n",
       " ('Somalia', '', '0.00k'),\n",
       " ('El Salvador', '', '0.00k'),\n",
       " ('Belize', '', '0.00k'),\n",
       " ('Cook Islands', '', '0.00k'),\n",
       " ('Maldives', '', '0.00k'),\n",
       " ('Malawi', '', '0.00k'),\n",
       " ('Romania', '', '0.49k'),\n",
       " ('Chile', '', '0.23k'),\n",
       " ('Czechoslovakia', '', '0.31k'),\n",
       " ('Isle Of Man', '', '0.01k'),\n",
       " ('S. Bauman-Produktion', '', '0.00k'),\n",
       " ('Yugoslavia', '', '0.40k'),\n",
       " ('Egypt', '', '0.48k'),\n",
       " ('Bulgaria', '', '0.27k'),\n",
       " ('New Zealand', '', '0.24k'),\n",
       " ('Israel', '', '0.36k'),\n",
       " ('Cuba', '', '0.07k'),\n",
       " ('Liechtenstein', '', '0.02k'),\n",
       " ('Croatia', '', '0.21k'),\n",
       " ('Malta', '', '0.03k'),\n",
       " ('Sri Lanka', '', '0.04k'),\n",
       " ('Afghanistan', '', '0.02k'),\n",
       " ('Morocco', '', '0.08k'),\n",
       " ('Kyrgyzstan', '', '0.01k'),\n",
       " ('Singapore', '', '0.12k'),\n",
       " ('Taiwan', '', '0.42k'),\n",
       " ('Senegal', '', '0.03k'),\n",
       " ('Bolivia', '', '0.03k'),\n",
       " ('Luxembourg', '', '0.24k'),\n",
       " ('Georgia', '', '0.06k'),\n",
       " ('Panama', '', '0.02k'),\n",
       " ('Haiti', '', '0.01k'),\n",
       " ('Cameroon', '', '0.00k'),\n",
       " ('Syria', '', '0.01k'),\n",
       " ('Jamaica', '', '0.01k'),\n",
       " ('Colombia', '', '0.18k'),\n",
       " ('Bangladesh', '', '0.12k'),\n",
       " ('Sandrews', '', '0.00k'),\n",
       " ('Indonesia', '', '0.28k'),\n",
       " (\"Côte d'Ivoire\", '', '0.01k'),\n",
       " ('Malaysia', '', '0.11k'),\n",
       " ('Mali', '', '0.01k'),\n",
       " ('Dominican Republic', '', '0.06k'),\n",
       " ('Nicaragua', '', '0.00k'),\n",
       " ('Burkina Faso', '', '0.01k'),\n",
       " ('Bahamas', '', '0.01k'),\n",
       " ('Martinique', '', '0.00k'),\n",
       " ('Mongolia', '', '0.01k'),\n",
       " ('Palestine', '', '0.03k'),\n",
       " ('Zaire', '', '0.00k'),\n",
       " ('Pedro Almodóvar', '', '0.00k'),\n",
       " ('Zimbabwe', '', '0.00k'),\n",
       " ('Namibia', '', '0.00k'),\n",
       " ('Lithuania', '', '0.11k'),\n",
       " ('Armenia', '', '0.02k'),\n",
       " ('Federal Republic of Yugoslavia', '', '0.07k'),\n",
       " ('Czech Republic', '', '0.44k'),\n",
       " ('Tajikistan', '', '0.01k'),\n",
       " ('Belarus', '', '0.01k'),\n",
       " ('Guinea', '', '0.00k'),\n",
       " ('Republic of North Macedonia', '', '0.07k'),\n",
       " ('Bosnia and Herzegovina', '', '0.08k'),\n",
       " ('Svalbard And Jan Mayen', '', '0.00k'),\n",
       " ('Niger', '', '0.00k'),\n",
       " ('Greenland', '', '0.01k'),\n",
       " ('The Democratic Republic Of Congo', '', '0.00k'),\n",
       " ('Faroe Islands', '', '0.00k'),\n",
       " ('Serbia', '', '0.22k'),\n",
       " ('United Arab Emirates', '', '0.11k'),\n",
       " ('Moldova', '', '0.01k'),\n",
       " ('Jordan', '', '0.03k'),\n",
       " ('Chad', '', '0.00k'),\n",
       " ('Macao', '', '0.00k'),\n",
       " ('Yemen', '', '0.00k'),\n",
       " ('Qatar', '', '0.07k'),\n",
       " ('Azerbaijan', '', '0.03k'),\n",
       " ('Rwanda', '', '0.00k'),\n",
       " ('Uganda', '', '0.00k'),\n",
       " ('Lesotho', '', '0.00k'),\n",
       " ('Papua New Guinea', '', '0.00k'),\n",
       " ('Samoa', '', '0.00k'),\n",
       " ('Swaziland', '', '0.00k'),\n",
       " ('Sudan', '', '0.00k'),\n",
       " ('Brunei', '', '0.00k'),\n",
       " ('Burma', '', '0.00k'),\n",
       " ('Vanuatu', '', '0.00k'),\n",
       " ('Djibouti', '', '0.00k'),\n",
       " ('Guadeloupe', '', '0.00k'),\n",
       " ('Holy See (Vatican City State)', '', '0.00k'),\n",
       " ('Oman', '', '0.00k')]"
      ]
     },
     "execution_count": 20,
     "metadata": {},
     "output_type": "execute_result"
    }
   ],
   "source": [
    "sortedOutput.collect()"
   ]
  }
 ],
 "metadata": {
  "kernelspec": {
   "display_name": "Python 3 (ipykernel)",
   "language": "python",
   "name": "python3"
  },
  "language_info": {
   "codemirror_mode": {
    "name": "ipython",
    "version": 3
   },
   "file_extension": ".py",
   "mimetype": "text/x-python",
   "name": "python",
   "nbconvert_exporter": "python",
   "pygments_lexer": "ipython3",
   "version": "3.9.12"
  }
 },
 "nbformat": 4,
 "nbformat_minor": 5
}
