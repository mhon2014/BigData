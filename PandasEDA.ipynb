{
 "cells": [
  {
   "cell_type": "code",
   "execution_count": 1,
   "id": "d7f5046c-4b7f-455d-983b-45aa6de3b511",
   "metadata": {},
   "outputs": [],
   "source": [
    "import pandas as pd\n",
    "import numpy as np\n",
    "from matplotlib import pyplot as plt"
   ]
  },
  {
   "cell_type": "markdown",
   "id": "4db6e942-00e3-4f9a-80d1-40deb2c8f9d2",
   "metadata": {},
   "source": [
    "#### Conduct exploratory data analysis in order to find out\n",
    "#### where there are outliers or missing values, decide how you will treat them, make sure the dates are formatted correctly,\n",
    "#### make sure values you think are numerical are being treated as such, etc.\n"
   ]
  },
  {
   "cell_type": "markdown",
   "id": "1648257d-0cb8-4ab8-bd1d-4db827262d8f",
   "metadata": {},
   "source": [
    "## 1. Reading the Data (4pts)\n",
    "## (a) Load the dataset using pandas"
   ]
  },
  {
   "cell_type": "code",
   "execution_count": 3,
   "id": "4af2ff43-90bd-4cfd-8d4b-ef88ff343df3",
   "metadata": {
    "tags": []
   },
   "outputs": [],
   "source": [
    "df = pd.read_csv(\"rollingsales_brooklyn.csv\",  skiprows = 4)"
   ]
  },
  {
   "cell_type": "markdown",
   "id": "9cedf195-2a30-4abe-bbe6-ddfd904c2fdb",
   "metadata": {},
   "source": [
    "## (b) Display the shape of the data to make sure it was read\n"
   ]
  },
  {
   "cell_type": "code",
   "execution_count": 4,
   "id": "e01d7588-c187-4cf2-a1b9-f3b82d0f2d20",
   "metadata": {},
   "outputs": [
    {
     "data": {
      "text/plain": [
       "(23373, 21)"
      ]
     },
     "execution_count": 4,
     "metadata": {},
     "output_type": "execute_result"
    }
   ],
   "source": [
    "df.shape"
   ]
  },
  {
   "cell_type": "markdown",
   "id": "9f3bc92b-42d1-4788-b40e-08dafe6a84a9",
   "metadata": {
    "tags": []
   },
   "source": [
    "## (c) Display the first 2 rows\n"
   ]
  },
  {
   "cell_type": "code",
   "execution_count": 5,
   "id": "bbdef6b7-71af-4ab6-b3ed-2b6ec96ea9a2",
   "metadata": {},
   "outputs": [
    {
     "data": {
      "text/html": [
       "<div>\n",
       "<style scoped>\n",
       "    .dataframe tbody tr th:only-of-type {\n",
       "        vertical-align: middle;\n",
       "    }\n",
       "\n",
       "    .dataframe tbody tr th {\n",
       "        vertical-align: top;\n",
       "    }\n",
       "\n",
       "    .dataframe thead th {\n",
       "        text-align: right;\n",
       "    }\n",
       "</style>\n",
       "<table border=\"1\" class=\"dataframe\">\n",
       "  <thead>\n",
       "    <tr style=\"text-align: right;\">\n",
       "      <th></th>\n",
       "      <th>BOROUGH</th>\n",
       "      <th>NEIGHBORHOOD</th>\n",
       "      <th>BUILDING CLASS CATEGORY</th>\n",
       "      <th>TAX CLASS AT PRESENT</th>\n",
       "      <th>BLOCK</th>\n",
       "      <th>LOT</th>\n",
       "      <th>EASE-MENT</th>\n",
       "      <th>BUILDING CLASS AT PRESENT</th>\n",
       "      <th>ADDRESS</th>\n",
       "      <th>APART\\nMENT\\nNUMBER</th>\n",
       "      <th>...</th>\n",
       "      <th>RESIDENTIAL UNITS</th>\n",
       "      <th>COMMERCIAL UNITS</th>\n",
       "      <th>TOTAL UNITS</th>\n",
       "      <th>LAND SQUARE FEET</th>\n",
       "      <th>GROSS SQUARE FEET</th>\n",
       "      <th>YEAR BUILT</th>\n",
       "      <th>TAX CLASS AT TIME OF SALE</th>\n",
       "      <th>BUILDING CLASS AT TIME OF SALE</th>\n",
       "      <th>SALE\\nPRICE</th>\n",
       "      <th>SALE DATE</th>\n",
       "    </tr>\n",
       "  </thead>\n",
       "  <tbody>\n",
       "    <tr>\n",
       "      <th>0</th>\n",
       "      <td>3</td>\n",
       "      <td></td>\n",
       "      <td>15  CONDOS - 2-10 UNIT RESIDENTIAL</td>\n",
       "      <td></td>\n",
       "      <td>814</td>\n",
       "      <td>1103</td>\n",
       "      <td></td>\n",
       "      <td></td>\n",
       "      <td>342 53RD    STREET</td>\n",
       "      <td></td>\n",
       "      <td>...</td>\n",
       "      <td>0</td>\n",
       "      <td>0</td>\n",
       "      <td>0</td>\n",
       "      <td>0</td>\n",
       "      <td>0</td>\n",
       "      <td>0</td>\n",
       "      <td>2</td>\n",
       "      <td>R1</td>\n",
       "      <td>$403,572</td>\n",
       "      <td>7/9/13</td>\n",
       "    </tr>\n",
       "    <tr>\n",
       "      <th>1</th>\n",
       "      <td>3</td>\n",
       "      <td></td>\n",
       "      <td>15  CONDOS - 2-10 UNIT RESIDENTIAL</td>\n",
       "      <td></td>\n",
       "      <td>814</td>\n",
       "      <td>1105</td>\n",
       "      <td></td>\n",
       "      <td></td>\n",
       "      <td>342 53RD    STREET</td>\n",
       "      <td></td>\n",
       "      <td>...</td>\n",
       "      <td>0</td>\n",
       "      <td>0</td>\n",
       "      <td>0</td>\n",
       "      <td>0</td>\n",
       "      <td>0</td>\n",
       "      <td>0</td>\n",
       "      <td>2</td>\n",
       "      <td>R1</td>\n",
       "      <td>$218,010</td>\n",
       "      <td>7/12/13</td>\n",
       "    </tr>\n",
       "  </tbody>\n",
       "</table>\n",
       "<p>2 rows × 21 columns</p>\n",
       "</div>"
      ],
      "text/plain": [
       "   BOROUGH               NEIGHBORHOOD  \\\n",
       "0        3                              \n",
       "1        3                              \n",
       "\n",
       "                        BUILDING CLASS CATEGORY TAX CLASS AT PRESENT  BLOCK  \\\n",
       "0  15  CONDOS - 2-10 UNIT RESIDENTIAL                                   814   \n",
       "1  15  CONDOS - 2-10 UNIT RESIDENTIAL                                   814   \n",
       "\n",
       "    LOT EASE-MENT BUILDING CLASS AT PRESENT  \\\n",
       "0  1103                                       \n",
       "1  1105                                       \n",
       "\n",
       "                                       ADDRESS APART\\nMENT\\nNUMBER  ...  \\\n",
       "0   342 53RD    STREET                                              ...   \n",
       "1   342 53RD    STREET                                              ...   \n",
       "\n",
       "   RESIDENTIAL UNITS  COMMERCIAL UNITS  TOTAL UNITS  LAND SQUARE FEET  \\\n",
       "0                  0                 0            0                 0   \n",
       "1                  0                 0            0                 0   \n",
       "\n",
       "  GROSS SQUARE FEET YEAR BUILT  TAX CLASS AT TIME OF SALE  \\\n",
       "0                 0          0                          2   \n",
       "1                 0          0                          2   \n",
       "\n",
       "   BUILDING CLASS AT TIME OF SALE SALE\\nPRICE SALE DATE  \n",
       "0                             R1     $403,572    7/9/13  \n",
       "1                             R1     $218,010   7/12/13  \n",
       "\n",
       "[2 rows x 21 columns]"
      ]
     },
     "execution_count": 5,
     "metadata": {},
     "output_type": "execute_result"
    }
   ],
   "source": [
    "df.head(2) "
   ]
  },
  {
   "cell_type": "markdown",
   "id": "2c77e07c-10c3-43f6-8808-891eb5765825",
   "metadata": {},
   "source": [
    "## (d) Display row 14 to see the field names clearly"
   ]
  },
  {
   "cell_type": "code",
   "execution_count": 6,
   "id": "ed0d3af2-57fc-4914-afb0-3d33711265d5",
   "metadata": {},
   "outputs": [
    {
     "data": {
      "text/plain": [
       "BOROUGH                                                                      3\n",
       "NEIGHBORHOOD                                         BATH BEACH               \n",
       "BUILDING CLASS CATEGORY                                                       \n",
       "TAX CLASS AT PRESENT                                                         4\n",
       "BLOCK                                                                     6370\n",
       "LOT                                                                       1321\n",
       "EASE-MENT                                                                     \n",
       "BUILDING CLASS AT PRESENT                                                   RP\n",
       "ADDRESS                             98 BAY 20TH   STREET                      \n",
       "APART\\nMENT\\nNUMBER                                               P1          \n",
       "ZIP CODE                                                                 11214\n",
       "RESIDENTIAL UNITS                                                            0\n",
       "COMMERCIAL UNITS                                                             0\n",
       "TOTAL UNITS                                                                  1\n",
       "LAND SQUARE FEET                                                             0\n",
       "GROSS SQUARE FEET                                                            0\n",
       "YEAR BUILT                                                                2011\n",
       "TAX CLASS AT TIME OF SALE                                                    4\n",
       "BUILDING CLASS AT TIME OF SALE                                             RP \n",
       "SALE\\nPRICE                                                                 $0\n",
       "SALE DATE                                                              12/7/12\n",
       "Name: 14, dtype: object"
      ]
     },
     "execution_count": 6,
     "metadata": {},
     "output_type": "execute_result"
    }
   ],
   "source": [
    "df.loc[14]"
   ]
  },
  {
   "cell_type": "markdown",
   "id": "627df760-7b4b-4a28-86d2-36d4eeb4d3aa",
   "metadata": {},
   "source": [
    "## 2. Reformatting column labels (4pts)\n",
    "## (a) Convert the column names to lower case"
   ]
  },
  {
   "cell_type": "code",
   "execution_count": 7,
   "id": "7fd9c364-53a9-46b8-8557-f7cc616f8671",
   "metadata": {},
   "outputs": [
    {
     "data": {
      "text/plain": [
       "Index(['borough', 'neighborhood', 'building class category',\n",
       "       'tax class at present', 'block', 'lot', 'ease-ment',\n",
       "       'building class at present', 'address', 'apart\\nment\\nnumber',\n",
       "       'zip code', 'residential units', 'commercial units', 'total units',\n",
       "       'land square feet', 'gross square feet', 'year built',\n",
       "       'tax class at time of sale', 'building class at time of sale',\n",
       "       'sale\\nprice', 'sale date'],\n",
       "      dtype='object')"
      ]
     },
     "execution_count": 7,
     "metadata": {},
     "output_type": "execute_result"
    }
   ],
   "source": [
    "df.columns = df.columns.str.lower()\n",
    "df.columns"
   ]
  },
  {
   "cell_type": "markdown",
   "id": "6e089982-0f32-465f-ae4d-c63f4eaa1860",
   "metadata": {
    "tags": []
   },
   "source": [
    "## (b) Replace the ‘\\n’ in the column names with space\n"
   ]
  },
  {
   "cell_type": "code",
   "execution_count": 8,
   "id": "9540961b-5f9e-4328-83dd-99591a62ae62",
   "metadata": {},
   "outputs": [],
   "source": [
    "df.columns = df.columns.str.replace('\\n', ' ')"
   ]
  },
  {
   "cell_type": "markdown",
   "id": "3cffca68-363b-43a0-ba90-631bf6b0cc20",
   "metadata": {},
   "source": [
    "## (c) Replace the spaces in the column names with underscores\n"
   ]
  },
  {
   "cell_type": "code",
   "execution_count": 9,
   "id": "6972caa4-3e9c-46da-909b-451c62ba93a9",
   "metadata": {},
   "outputs": [],
   "source": [
    "df.columns = df.columns.str.replace(' ', '_')"
   ]
  },
  {
   "cell_type": "markdown",
   "id": "4bfdb3e0-f24c-4f31-a416-8164a0ea6fef",
   "metadata": {},
   "source": [
    "## (d) Display row 14 again to see the change in the field names"
   ]
  },
  {
   "cell_type": "code",
   "execution_count": 10,
   "id": "c519c677-4f94-47e8-8353-84176264ccae",
   "metadata": {},
   "outputs": [
    {
     "data": {
      "text/plain": [
       "borough                                                                      3\n",
       "neighborhood                                         BATH BEACH               \n",
       "building_class_category                                                       \n",
       "tax_class_at_present                                                         4\n",
       "block                                                                     6370\n",
       "lot                                                                       1321\n",
       "ease-ment                                                                     \n",
       "building_class_at_present                                                   RP\n",
       "address                             98 BAY 20TH   STREET                      \n",
       "apart_ment_number                                                 P1          \n",
       "zip_code                                                                 11214\n",
       "residential_units                                                            0\n",
       "commercial_units                                                             0\n",
       "total_units                                                                  1\n",
       "land_square_feet                                                             0\n",
       "gross_square_feet                                                            0\n",
       "year_built                                                                2011\n",
       "tax_class_at_time_of_sale                                                    4\n",
       "building_class_at_time_of_sale                                             RP \n",
       "sale_price                                                                  $0\n",
       "sale_date                                                              12/7/12\n",
       "Name: 14, dtype: object"
      ]
     },
     "execution_count": 10,
     "metadata": {},
     "output_type": "execute_result"
    }
   ],
   "source": [
    "df.loc[14]"
   ]
  },
  {
   "cell_type": "markdown",
   "id": "9110be18-3920-40c3-bfd4-f5af89c10afb",
   "metadata": {},
   "source": [
    "## 3. Convert the field “sale_price” to numeric (it is currently formatted as currency which cannot be used in calculations.)\n",
    "(Hints: There is a to_numeric function. You will first need to remove the commas and dollar signs. See slide 33 or\n",
    "35 of the Pandas preprocessing tutorial.) "
   ]
  },
  {
   "cell_type": "code",
   "execution_count": 11,
   "id": "81fd557f-ac32-4dcd-8be9-a7976ac2e035",
   "metadata": {},
   "outputs": [],
   "source": [
    "df['sale_price'] = pd.to_numeric(df['sale_price'].replace({'\\$': '', ',': ''}, regex=True))"
   ]
  },
  {
   "cell_type": "markdown",
   "id": "6d87ec1d-1d3a-4741-86c0-78e1381f7272",
   "metadata": {},
   "source": [
    "## 4. Display a count of missing sale prices (those set to ‘0s’) (1pt)"
   ]
  },
  {
   "cell_type": "code",
   "execution_count": 12,
   "id": "70336e6c-0214-4d22-90bd-206af3b3e869",
   "metadata": {},
   "outputs": [
    {
     "data": {
      "text/plain": [
       "0         8791\n",
       "10         241\n",
       "700000     138\n",
       "650000     129\n",
       "300000     120\n",
       "          ... \n",
       "737000       1\n",
       "751000       1\n",
       "498942       1\n",
       "599500       1\n",
       "354969       1\n",
       "Name: sale_price, Length: 3318, dtype: int64"
      ]
     },
     "execution_count": 12,
     "metadata": {},
     "output_type": "execute_result"
    }
   ],
   "source": [
    "df['sale_price'].value_counts()"
   ]
  },
  {
   "cell_type": "code",
   "execution_count": 13,
   "id": "314d490b-d371-4e36-8641-5aef21fb031a",
   "metadata": {},
   "outputs": [
    {
     "data": {
      "text/plain": [
       "8791"
      ]
     },
     "execution_count": 13,
     "metadata": {},
     "output_type": "execute_result"
    }
   ],
   "source": [
    "(df['sale_price'] == 0).sum()"
   ]
  },
  {
   "cell_type": "markdown",
   "id": "c152ce87-ed68-4543-af4d-09a2ea799b8b",
   "metadata": {},
   "source": [
    "## 5. Convert “land_square_feet” to numeric (it’s currently a formatted string which cannot be used in calculations) (1pt)"
   ]
  },
  {
   "cell_type": "code",
   "execution_count": 14,
   "id": "78fce16f-adb4-40a8-a956-d192ad94f89d",
   "metadata": {},
   "outputs": [],
   "source": [
    "df['land_square_feet'] = pd.to_numeric(df['land_square_feet'].replace({',': ''}, regex=True))"
   ]
  },
  {
   "cell_type": "markdown",
   "id": "06614386-ed9a-4719-8da5-b8de75fd033c",
   "metadata": {},
   "source": [
    "## 6. Convert “gross_square_feet” to numeric, “sale_date” to datetime, “year_built” to numeric (int32), and “zip_code” to string (4pts)"
   ]
  },
  {
   "cell_type": "code",
   "execution_count": 15,
   "id": "311d18c4-249f-4362-b357-cb83ca83aaf8",
   "metadata": {},
   "outputs": [],
   "source": [
    "df['gross_square_feet'] = pd.to_numeric(df['gross_square_feet'].replace({',': ''}, regex=True))\n",
    "df['year_built'] = df['year_built'].astype(np.int32)\n",
    "df['sale_date'] = pd.to_datetime(df['sale_date'])\n",
    "df['zip_code'] = df['zip_code'].astype(str)"
   ]
  },
  {
   "cell_type": "markdown",
   "id": "e83d40ed-2187-4acc-9584-5e29bcbdb3e9",
   "metadata": {},
   "source": [
    "## 7. Change EAST/WEST to E/W for each address (2pts)"
   ]
  },
  {
   "cell_type": "code",
   "execution_count": 16,
   "id": "598d2e16-ef96-4401-ae14-18c9ee649b42",
   "metadata": {},
   "outputs": [],
   "source": [
    "df['address'] = df['address'].replace({'EAST': 'E', 'WEST': 'W'}, regex=True)"
   ]
  },
  {
   "cell_type": "markdown",
   "id": "79a774d2-c3f7-4b0a-b989-1b076ce9c6b8",
   "metadata": {},
   "source": [
    "## 8. Change STREET/AVENUE to ST/AVE for each address (2pts)"
   ]
  },
  {
   "cell_type": "code",
   "execution_count": 17,
   "id": "52fe7c8b-a35e-4866-be44-2cca00979b7e",
   "metadata": {},
   "outputs": [],
   "source": [
    "df['address'] = df['address'].replace({'STREET': 'ST', 'AVENUE': 'AVE'}, regex=True)"
   ]
  },
  {
   "cell_type": "markdown",
   "id": "5b474645-5ddd-4610-99dc-5a97284493c4",
   "metadata": {},
   "source": [
    "## 9. Plot the following histograms: (4pts)\n",
    "• sale price by counts\n",
    "\n",
    "• sale price>0\n",
    "\n",
    "• gross sqft where sale price == 0"
   ]
  },
  {
   "cell_type": "code",
   "execution_count": 18,
   "id": "c4c85750-e6f2-4f65-b753-e76446d204f1",
   "metadata": {},
   "outputs": [
    {
     "data": {
      "image/png": "[encoded data removed]",
      "text/plain": [
       "<Figure size 720x1440 with 3 Axes>"
      ]
     },
     "metadata": {
      "needs_background": "light"
     },
     "output_type": "display_data"
    }
   ],
   "source": [
    "%matplotlib inline\n",
    "\n",
    "\n",
    "price = df[df['sale_price']>0]\n",
    "zero_price= df[df['sale_price']==0]\n",
    "\n",
    "\n",
    "fig = plt.figure(figsize = (10,20))\n",
    "\n",
    "ax1 = fig.add_subplot(311)\n",
    "ax1.set_title('sale_price by counts', fontsize=20)\n",
    "df['sale_price'].hist(ax=ax1)\n",
    "\n",
    "ax2 = fig.add_subplot(312)\n",
    "ax2.set_title('sale_price > 0', fontsize=20)\n",
    "price['sale_price'].hist(ax=ax2)\n",
    "\n",
    "ax3 = fig.add_subplot(313)\n",
    "ax3.set_title('gross sqft where sale price == 0', fontsize=20)\n",
    "zero_price['gross_square_feet'].hist(ax=ax3);\n",
    "\n"
   ]
  },
  {
   "cell_type": "markdown",
   "id": "a5e33b0d-36e2-4117-b96e-d239ccc8b029",
   "metadata": {},
   "source": [
    "## 10. Filter the data by family homes (i.e., return a subset of rows in a temp variable where the \"building_class_category\" contains \"FAMILY\" ) (2pts)"
   ]
  },
  {
   "cell_type": "code",
   "execution_count": 19,
   "id": "a2852848-abe4-4801-ab5e-31149dfcd7bf",
   "metadata": {},
   "outputs": [
    {
     "data": {
      "text/html": [
       "<div>\n",
       "<style scoped>\n",
       "    .dataframe tbody tr th:only-of-type {\n",
       "        vertical-align: middle;\n",
       "    }\n",
       "\n",
       "    .dataframe tbody tr th {\n",
       "        vertical-align: top;\n",
       "    }\n",
       "\n",
       "    .dataframe thead th {\n",
       "        text-align: right;\n",
       "    }\n",
       "</style>\n",
       "<table border=\"1\" class=\"dataframe\">\n",
       "  <thead>\n",
       "    <tr style=\"text-align: right;\">\n",
       "      <th></th>\n",
       "      <th>borough</th>\n",
       "      <th>neighborhood</th>\n",
       "      <th>building_class_category</th>\n",
       "      <th>tax_class_at_present</th>\n",
       "      <th>block</th>\n",
       "      <th>lot</th>\n",
       "      <th>ease-ment</th>\n",
       "      <th>building_class_at_present</th>\n",
       "      <th>address</th>\n",
       "      <th>apart_ment_number</th>\n",
       "      <th>...</th>\n",
       "      <th>residential_units</th>\n",
       "      <th>commercial_units</th>\n",
       "      <th>total_units</th>\n",
       "      <th>land_square_feet</th>\n",
       "      <th>gross_square_feet</th>\n",
       "      <th>year_built</th>\n",
       "      <th>tax_class_at_time_of_sale</th>\n",
       "      <th>building_class_at_time_of_sale</th>\n",
       "      <th>sale_price</th>\n",
       "      <th>sale_date</th>\n",
       "    </tr>\n",
       "  </thead>\n",
       "  <tbody>\n",
       "    <tr>\n",
       "      <th>25</th>\n",
       "      <td>3</td>\n",
       "      <td>BATH BEACH</td>\n",
       "      <td>01  ONE FAMILY HOMES</td>\n",
       "      <td>1</td>\n",
       "      <td>6363</td>\n",
       "      <td>23</td>\n",
       "      <td></td>\n",
       "      <td>A9</td>\n",
       "      <td>8641 16TH AVE</td>\n",
       "      <td></td>\n",
       "      <td>...</td>\n",
       "      <td>1</td>\n",
       "      <td>0</td>\n",
       "      <td>1</td>\n",
       "      <td>2058</td>\n",
       "      <td>1492</td>\n",
       "      <td>1930</td>\n",
       "      <td>1</td>\n",
       "      <td>A9</td>\n",
       "      <td>560000</td>\n",
       "      <td>2013-06-06</td>\n",
       "    </tr>\n",
       "    <tr>\n",
       "      <th>26</th>\n",
       "      <td>3</td>\n",
       "      <td>BATH BEACH</td>\n",
       "      <td>01  ONE FAMILY HOMES</td>\n",
       "      <td>1</td>\n",
       "      <td>6366</td>\n",
       "      <td>69</td>\n",
       "      <td></td>\n",
       "      <td>A1</td>\n",
       "      <td>8658 BAY 16TH   ST</td>\n",
       "      <td></td>\n",
       "      <td>...</td>\n",
       "      <td>1</td>\n",
       "      <td>0</td>\n",
       "      <td>1</td>\n",
       "      <td>4833</td>\n",
       "      <td>1724</td>\n",
       "      <td>1930</td>\n",
       "      <td>1</td>\n",
       "      <td>A1</td>\n",
       "      <td>860000</td>\n",
       "      <td>2012-12-18</td>\n",
       "    </tr>\n",
       "    <tr>\n",
       "      <th>27</th>\n",
       "      <td>3</td>\n",
       "      <td>BATH BEACH</td>\n",
       "      <td>01  ONE FAMILY HOMES</td>\n",
       "      <td>1</td>\n",
       "      <td>6371</td>\n",
       "      <td>21</td>\n",
       "      <td></td>\n",
       "      <td>A9</td>\n",
       "      <td>73 BAY 20TH   ST</td>\n",
       "      <td></td>\n",
       "      <td>...</td>\n",
       "      <td>1</td>\n",
       "      <td>0</td>\n",
       "      <td>1</td>\n",
       "      <td>2417</td>\n",
       "      <td>2132</td>\n",
       "      <td>1930</td>\n",
       "      <td>1</td>\n",
       "      <td>A9</td>\n",
       "      <td>508000</td>\n",
       "      <td>2012-08-24</td>\n",
       "    </tr>\n",
       "    <tr>\n",
       "      <th>28</th>\n",
       "      <td>3</td>\n",
       "      <td>BATH BEACH</td>\n",
       "      <td>01  ONE FAMILY HOMES</td>\n",
       "      <td>1</td>\n",
       "      <td>6378</td>\n",
       "      <td>64</td>\n",
       "      <td></td>\n",
       "      <td>A1</td>\n",
       "      <td>56 BAY 28TH   ST</td>\n",
       "      <td></td>\n",
       "      <td>...</td>\n",
       "      <td>1</td>\n",
       "      <td>0</td>\n",
       "      <td>1</td>\n",
       "      <td>3867</td>\n",
       "      <td>1704</td>\n",
       "      <td>1899</td>\n",
       "      <td>1</td>\n",
       "      <td>A1</td>\n",
       "      <td>600000</td>\n",
       "      <td>2013-06-18</td>\n",
       "    </tr>\n",
       "    <tr>\n",
       "      <th>29</th>\n",
       "      <td>3</td>\n",
       "      <td>BATH BEACH</td>\n",
       "      <td>01  ONE FAMILY HOMES</td>\n",
       "      <td>1</td>\n",
       "      <td>6379</td>\n",
       "      <td>42</td>\n",
       "      <td></td>\n",
       "      <td>S1</td>\n",
       "      <td>2142 86TH   ST</td>\n",
       "      <td></td>\n",
       "      <td>...</td>\n",
       "      <td>1</td>\n",
       "      <td>1</td>\n",
       "      <td>2</td>\n",
       "      <td>1600</td>\n",
       "      <td>2640</td>\n",
       "      <td>1925</td>\n",
       "      <td>1</td>\n",
       "      <td>S1</td>\n",
       "      <td>0</td>\n",
       "      <td>2012-12-14</td>\n",
       "    </tr>\n",
       "  </tbody>\n",
       "</table>\n",
       "<p>5 rows × 21 columns</p>\n",
       "</div>"
      ],
      "text/plain": [
       "    borough               neighborhood  \\\n",
       "25        3  BATH BEACH                  \n",
       "26        3  BATH BEACH                  \n",
       "27        3  BATH BEACH                  \n",
       "28        3  BATH BEACH                  \n",
       "29        3  BATH BEACH                  \n",
       "\n",
       "                         building_class_category tax_class_at_present  block  \\\n",
       "25  01  ONE FAMILY HOMES                                            1   6363   \n",
       "26  01  ONE FAMILY HOMES                                            1   6366   \n",
       "27  01  ONE FAMILY HOMES                                            1   6371   \n",
       "28  01  ONE FAMILY HOMES                                            1   6378   \n",
       "29  01  ONE FAMILY HOMES                                            1   6379   \n",
       "\n",
       "    lot ease-ment building_class_at_present  \\\n",
       "25   23                                  A9   \n",
       "26   69                                  A1   \n",
       "27   21                                  A9   \n",
       "28   64                                  A1   \n",
       "29   42                                  S1   \n",
       "\n",
       "                                     address apart_ment_number  ...  \\\n",
       "25   8641 16TH AVE                                              ...   \n",
       "26    8658 BAY 16TH   ST                                        ...   \n",
       "27    73 BAY 20TH   ST                                          ...   \n",
       "28    56 BAY 28TH   ST                                          ...   \n",
       "29    2142 86TH   ST                                            ...   \n",
       "\n",
       "   residential_units  commercial_units  total_units  land_square_feet  \\\n",
       "25                 1                 0            1              2058   \n",
       "26                 1                 0            1              4833   \n",
       "27                 1                 0            1              2417   \n",
       "28                 1                 0            1              3867   \n",
       "29                 1                 1            2              1600   \n",
       "\n",
       "    gross_square_feet  year_built  tax_class_at_time_of_sale  \\\n",
       "25               1492        1930                          1   \n",
       "26               1724        1930                          1   \n",
       "27               2132        1930                          1   \n",
       "28               1704        1899                          1   \n",
       "29               2640        1925                          1   \n",
       "\n",
       "    building_class_at_time_of_sale sale_price  sale_date  \n",
       "25                             A9      560000 2013-06-06  \n",
       "26                             A1      860000 2012-12-18  \n",
       "27                             A9      508000 2012-08-24  \n",
       "28                             A1      600000 2013-06-18  \n",
       "29                             S1           0 2012-12-14  \n",
       "\n",
       "[5 rows x 21 columns]"
      ]
     },
     "execution_count": 19,
     "metadata": {},
     "output_type": "execute_result"
    }
   ],
   "source": [
    "family_homes = df[df['building_class_category'].str.contains('FAMILY')]\n",
    "family_homes.head()"
   ]
  },
  {
   "cell_type": "markdown",
   "id": "64e7f8e6-3a2d-4447-b97f-12e7eab793e5",
   "metadata": {},
   "source": [
    "## 11. Create a log scatter plot of “gross sqft” vs “sale price” for family homes (2pts)"
   ]
  },
  {
   "cell_type": "code",
   "execution_count": 20,
   "id": "297eb72f-f022-4b23-9ab9-ab30dde8b1df",
   "metadata": {},
   "outputs": [
    {
     "name": "stderr",
     "output_type": "stream",
     "text": [
      "/Users/Mjhon/miniforge3/lib/python3.9/site-packages/pandas/core/arraylike.py:364: RuntimeWarning: divide by zero encountered in log\n",
      "  result = getattr(ufunc, method)(*inputs, **kwargs)\n"
     ]
    },
    {
     "data": {
      "image/png": "[encoded data removed]",
      "text/plain": [
       "<Figure size 720x720 with 1 Axes>"
      ]
     },
     "metadata": {
      "needs_background": "light"
     },
     "output_type": "display_data"
    }
   ],
   "source": [
    "fig = plt.figure(figsize = (10,10));\n",
    "x = np.log(family_homes['gross_square_feet']);\n",
    "y = np.log(family_homes['sale_price']);\n",
    "plt.xlabel('gross_square_feet', fontsize=20);\n",
    "plt.ylabel('sale_price', fontsize=20);\n",
    "plt.scatter(x,y);"
   ]
  },
  {
   "cell_type": "markdown",
   "id": "54614587-f62c-41c9-9d5a-da24245ab70b",
   "metadata": {},
   "source": [
    "## 12. Return a subset of family homes where sale price<100000. How many homes fall in this category? (2pts)\n",
    "\n",
    "4745"
   ]
  },
  {
   "cell_type": "code",
   "execution_count": 21,
   "id": "01d26337-4a16-49d9-94ae-e2e0365d9306",
   "metadata": {},
   "outputs": [
    {
     "data": {
      "text/plain": [
       "4745"
      ]
     },
     "execution_count": 21,
     "metadata": {},
     "output_type": "execute_result"
    }
   ],
   "source": [
    "# price_condition = family_homes['sale_price'] < 100000\n",
    "subset = family_homes[family_homes['sale_price'] < 100000]\n",
    "subset['sale_price'].value_counts().values.sum()\n",
    "# subset.head()"
   ]
  },
  {
   "cell_type": "markdown",
   "id": "0eb6a751-0020-445a-800e-b9ed4ae5c6d0",
   "metadata": {},
   "source": [
    "## 13. Return a count of the sale prices (Notice that some homes were sold for a $1, etc. These seem to be outliers) (1pt)"
   ]
  },
  {
   "cell_type": "code",
   "execution_count": 22,
   "id": "d2b0c574-f336-4f60-95ff-85868453774b",
   "metadata": {},
   "outputs": [
    {
     "data": {
      "text/plain": [
       "0       4306\n",
       "1         27\n",
       "10       174\n",
       "100       10\n",
       "500        6\n",
       "1000      22\n",
       "1500       1\n",
       "2000       1\n",
       "2094       1\n",
       "2164       1\n",
       "Name: sale_price, dtype: int64"
      ]
     },
     "execution_count": 22,
     "metadata": {},
     "output_type": "execute_result"
    }
   ],
   "source": [
    "subset['sale_price'].value_counts().sort_index()[:10]"
   ]
  },
  {
   "cell_type": "markdown",
   "id": "be41a246-87ae-4bb6-8959-862be332d406",
   "metadata": {},
   "source": [
    "## 14. Remove outliers of sales with sale price <= 5 (2pts)"
   ]
  },
  {
   "cell_type": "code",
   "execution_count": 23,
   "id": "7f9e26ec-30cd-45e2-a5ee-15af09975a55",
   "metadata": {},
   "outputs": [
    {
     "data": {
      "text/plain": [
       "412"
      ]
     },
     "execution_count": 23,
     "metadata": {},
     "output_type": "execute_result"
    }
   ],
   "source": [
    "outliers_removed = subset[subset['sale_price'] > 5]\n",
    "outliers_removed['sale_price'].value_counts().sum()"
   ]
  },
  {
   "cell_type": "markdown",
   "id": "bc0be7d5-6b59-4924-a85f-a3ff73ce5824",
   "metadata": {},
   "source": [
    "## 15. With the outliers removed, create a plot of “gross sqft” vs “sale price” (2pts)"
   ]
  },
  {
   "cell_type": "code",
   "execution_count": 24,
   "id": "7708a1f2-0e1a-4168-bc1f-ddbe1bfc0d54",
   "metadata": {},
   "outputs": [
    {
     "data": {
      "image/png": "[encoded data removed]",
      "text/plain": [
       "<Figure size 720x720 with 1 Axes>"
      ]
     },
     "metadata": {
      "needs_background": "light"
     },
     "output_type": "display_data"
    }
   ],
   "source": [
    "fig = plt.figure(figsize = (10,10));\n",
    "x_removed = outliers_removed['gross_square_feet'];\n",
    "y_removed = outliers_removed['sale_price'];\n",
    "\n",
    "plt.xlabel('gross_square_feet', fontsize=20);\n",
    "plt.ylabel('sale_price', fontsize=20);\n",
    "plt.scatter(x_removed,y_removed);"
   ]
  },
  {
   "cell_type": "markdown",
   "id": "8828d130-a8ef-4093-a8ee-bf3a0227e9cb",
   "metadata": {},
   "source": [
    "## 16. Create a plot of the top 10 home sales for family homes. (5pts)"
   ]
  },
  {
   "cell_type": "code",
   "execution_count": 26,
   "id": "bbdc34df-fcfc-4703-bb74-6bb251945efd",
   "metadata": {},
   "outputs": [],
   "source": [
    "# topvalues = top['sale_price'].value_counts().nlargest(10).index\n",
    "# topvalues\n",
    "# topten = top[top['sale_price'].isin(topvalues)]\n",
    "# topten"
   ]
  },
  {
   "cell_type": "code",
   "execution_count": 25,
   "id": "5b847e5c-3fb6-439c-86b7-674a38c03942",
   "metadata": {},
   "outputs": [
    {
     "name": "stdout",
     "output_type": "stream",
     "text": [
      "0         4306\n",
      "10         174\n",
      "600000      82\n",
      "700000      77\n",
      "650000      75\n",
      "300000      71\n",
      "800000      61\n",
      "550000      61\n",
      "450000      59\n",
      "200000      59\n",
      "Name: sale_price, dtype: int64\n"
     ]
    }
   ],
   "source": [
    "print(family_homes['sale_price'].value_counts().nlargest(10))\n",
    "top = family_homes[family_homes['sale_price'] > 0]"
   ]
  },
  {
   "cell_type": "code",
   "execution_count": 27,
   "id": "6f63bb50-e317-47a5-b410-ea79fec245ad",
   "metadata": {},
   "outputs": [
    {
     "data": {
      "image/png": "[encoded data removed]",
      "text/plain": [
       "<Figure size 720x720 with 1 Axes>"
      ]
     },
     "metadata": {
      "needs_background": "light"
     },
     "output_type": "display_data"
    }
   ],
   "source": [
    "# outliers_removed \n",
    "\n",
    "fig = plt.figure(figsize = (10,10));\n",
    "\n",
    "color = plt.cm.rainbow(np.linspace(0, 1, 10))\n",
    "\n",
    "plt.xlabel('House Price', fontsize=20);\n",
    "plt.ylabel('House Sale Counts', fontsize=20);\n",
    "\n",
    "\n",
    "index = np.arange(10)  \n",
    "\n",
    "# std = outliers_removed['sale_price'].std()\n",
    "# # mean = topten['sale_price'].mstd)\n",
    "# print(std)\n",
    "\n",
    "y = top['sale_price'].value_counts()[:10].index\n",
    "x = top['sale_price'].value_counts()[:10].values\n",
    "\n",
    "# plt.bar(index, y, yerr=std, width=0.90, color=color)\n",
    "plt.bar(index, y, width=0.90, color=color)\n",
    "plt.xticks(index, x);\n",
    "plt.show()\n",
    "# outliers_removed['sale_price'].value_counts()[:10].plot(kind='bar', rot=0);"
   ]
  },
  {
   "cell_type": "markdown",
   "id": "966e8ffa-d155-4c82-94f3-a9f76b8c7061",
   "metadata": {},
   "source": [
    "## MEME TIME / SPAGHETTI CODE \n",
    "NO LOOPS JUST A LOT OF BROADCASTING PAIN"
   ]
  },
  {
   "cell_type": "code",
   "execution_count": 28,
   "id": "7bfce6e5-2a84-4d97-97b7-16a39991a12b",
   "metadata": {},
   "outputs": [],
   "source": [
    "def add_border(img, color):\n",
    "    h, w, c = img.shape\n",
    "    border = 10\n",
    "    new_img_array = np.full((h+2*border, w+2*border, c), color) \n",
    "    new_img_array[border:-border, border:-border] = img\n",
    "    return new_img_array"
   ]
  },
  {
   "cell_type": "code",
   "execution_count": null,
   "id": "9552f2ca-f2d8-4867-91df-ac40c184d698",
   "metadata": {},
   "outputs": [],
   "source": [
    "from PIL import Image, ImageDraw, ImageFont\n",
    " \n",
    "file = 'spaghetticode.png'\n",
    "img = Image.open(file)\n",
    "img = np.array(img)\n",
    "\n",
    "# print(img.shape)\n",
    "magic = img[50:335,45:335]\n",
    "# print(magic.shape)\n",
    "spaghetti = img[50:335, 370:660]\n",
    "# img.save('pil_red.png')\n",
    "plt.figure(figsize = (10,10))\n",
    "\n",
    "#Ignore this...wanted to add rainbow to each tiles but can't use loops :(\n",
    "border_color = (plt.cm.rainbow(np.linspace(0, 1, 9))[:,:3] * 255).astype(np.uint8)\n",
    "\n",
    "border = add_border(magic, border_color[0])\n",
    "border2 = add_border(spaghetti, border_color[3])\n",
    "\n",
    "new = np.tile(border, (3,3,1))\n",
    "h,w = border2.shape[:2]\n",
    "new[h:-h, w:-w] = border2\n",
    "\n",
    "\n",
    "meme = np.full((100+new.shape[0], new.shape[1], new.shape[2]), (255,255,255), dtype = new.dtype) \n",
    "meme[100:, :] = new\n",
    "\n",
    "draw = Image.fromarray(meme)\n",
    "fnt = ImageFont.truetype('/Library/Fonts/Arial.ttf', 40)\n",
    "d = ImageDraw.Draw(draw)\n",
    "d.text((150,25), 'The truth inside software application', font=fnt, fill=(0, 0, 0))\n",
    "d.text((340,525), 'spaghetti code',font=fnt, fill=(255, 255, 255))\n",
    "\n",
    "plt.imshow(draw);"
   ]
  }
 ],
 "metadata": {
  "kernelspec": {
   "display_name": "Python 3 (ipykernel)",
   "language": "python",
   "name": "python3"
  },
  "language_info": {
   "codemirror_mode": {
    "name": "ipython",
    "version": 3
   },
   "file_extension": ".py",
   "mimetype": "text/x-python",
   "name": "python",
   "nbconvert_exporter": "python",
   "pygments_lexer": "ipython3",
   "version": "3.9.12"
  }
 },
 "nbformat": 4,
 "nbformat_minor": 5
}
