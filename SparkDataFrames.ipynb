{
 "cells": [
  {
   "cell_type": "code",
   "execution_count": 1,
   "id": "131ddbaf-98e4-43d9-bb3c-7b06cedcbb23",
   "metadata": {},
   "outputs": [
    {
     "data": {
      "text/html": [
       "<style>.container { width:90% !important; }</style>"
      ],
      "text/plain": [
       "<IPython.core.display.HTML object>"
      ]
     },
     "metadata": {},
     "output_type": "display_data"
    }
   ],
   "source": [
    "import pyspark as ps\n",
    "from pyspark.sql import SparkSession\n",
    "from pyspark.sql import functions as f\n",
    "import glob as glob\n",
    "from IPython.display import display, HTML\n",
    "display(HTML(\"<style>.container { width:90% !important; }</style>\"))"
   ]
  },
  {
   "cell_type": "markdown",
   "id": "5a54b9e9-6635-4fda-871c-59fe78c2497d",
   "metadata": {},
   "source": [
    "This dataset is approximately 2.3GB and contains fire calls from 2000 - 2022, 6M rows and 34 columns. Locate the dataset\n",
    "here: https://data.sfgov.org/Public-Safety/Fire-Department-Calls-for-Service/nuek-vuh3.\n",
    "# 1. Data Cleaning (20 points)"
   ]
  },
  {
   "cell_type": "markdown",
   "id": "368662e0-50fa-454d-a475-814a3b031f12",
   "metadata": {},
   "source": [
    "### (a) (1 point) Create a parallelized Spark Context (local[*]) and use it to complete the assignment."
   ]
  },
  {
   "cell_type": "code",
   "execution_count": 2,
   "id": "1ecd51dd-22bb-487e-9c9d-919766e476e4",
   "metadata": {},
   "outputs": [
    {
     "name": "stderr",
     "output_type": "stream",
     "text": [
      "Setting default log level to \"WARN\".\n",
      "To adjust logging level use sc.setLogLevel(newLevel). For SparkR, use setLogLevel(newLevel).\n"
     ]
    },
    {
     "name": "stdout",
     "output_type": "stream",
     "text": [
      "22/11/06 12:46:21 WARN NativeCodeLoader: Unable to load native-hadoop library for your platform... using builtin-java classes where applicable\n"
     ]
    }
   ],
   "source": [
    "spark = SparkSession.builder \\\n",
    "                    .appName('SF Fires') \\\n",
    "                    .master ('local[*]') \\\n",
    "                    .getOrCreate()"
   ]
  },
  {
   "cell_type": "markdown",
   "id": "d4931cb1-78e8-4a4e-a7c9-dbc04c9815e1",
   "metadata": {},
   "source": [
    "### (b) (1 point) Read the dataset using 0.1% sampling ratio to infer the schema."
   ]
  },
  {
   "cell_type": "code",
   "execution_count": 3,
   "id": "be1fb995-827a-42f6-b7a0-2cebe3a91c21",
   "metadata": {},
   "outputs": [
    {
     "name": "stderr",
     "output_type": "stream",
     "text": [
      "                                                                                \r"
     ]
    }
   ],
   "source": [
    "sampleDF = spark.read \\\n",
    "                .option('samplingRatio', 0.01) \\\n",
    "                .option('header', 'true') \\\n",
    "                .csv(\"\"\"Fire_Department_Calls_for_Service.csv\"\"\")"
   ]
  },
  {
   "cell_type": "code",
   "execution_count": 4,
   "id": "3aad2f62-c6ef-4650-b067-758b2d1149f9",
   "metadata": {},
   "outputs": [
    {
     "data": {
      "text/plain": [
       "['Call Number',\n",
       " 'Unit ID',\n",
       " 'Incident Number',\n",
       " 'Call Type',\n",
       " 'Call Date',\n",
       " 'Watch Date',\n",
       " 'Received DtTm',\n",
       " 'Entry DtTm',\n",
       " 'Dispatch DtTm',\n",
       " 'Response DtTm',\n",
       " 'On Scene DtTm',\n",
       " 'Transport DtTm',\n",
       " 'Hospital DtTm',\n",
       " 'Call Final Disposition',\n",
       " 'Available DtTm',\n",
       " 'Address',\n",
       " 'City',\n",
       " 'Zipcode of Incident',\n",
       " 'Battalion',\n",
       " 'Station Area',\n",
       " 'Box',\n",
       " 'Original Priority',\n",
       " 'Priority',\n",
       " 'Final Priority',\n",
       " 'ALS Unit',\n",
       " 'Call Type Group',\n",
       " 'Number of Alarms',\n",
       " 'Unit Type',\n",
       " 'Unit sequence in call dispatch',\n",
       " 'Fire Prevention District',\n",
       " 'Supervisor District',\n",
       " 'Neighborhooods - Analysis Boundaries',\n",
       " 'RowID',\n",
       " 'case_location',\n",
       " 'Analysis Neighborhoods']"
      ]
     },
     "execution_count": 4,
     "metadata": {},
     "output_type": "execute_result"
    }
   ],
   "source": [
    "sampleDF.columns"
   ]
  },
  {
   "cell_type": "code",
   "execution_count": 5,
   "id": "795810ea-7096-4093-af2c-f030ce1a61cc",
   "metadata": {},
   "outputs": [
    {
     "data": {
      "text/plain": [
       "[('Call Number', 'string'),\n",
       " ('Unit ID', 'string'),\n",
       " ('Incident Number', 'string'),\n",
       " ('Call Type', 'string'),\n",
       " ('Call Date', 'string'),\n",
       " ('Watch Date', 'string'),\n",
       " ('Received DtTm', 'string'),\n",
       " ('Entry DtTm', 'string'),\n",
       " ('Dispatch DtTm', 'string'),\n",
       " ('Response DtTm', 'string'),\n",
       " ('On Scene DtTm', 'string'),\n",
       " ('Transport DtTm', 'string'),\n",
       " ('Hospital DtTm', 'string'),\n",
       " ('Call Final Disposition', 'string'),\n",
       " ('Available DtTm', 'string'),\n",
       " ('Address', 'string'),\n",
       " ('City', 'string'),\n",
       " ('Zipcode of Incident', 'string'),\n",
       " ('Battalion', 'string'),\n",
       " ('Station Area', 'string'),\n",
       " ('Box', 'string'),\n",
       " ('Original Priority', 'string'),\n",
       " ('Priority', 'string'),\n",
       " ('Final Priority', 'string'),\n",
       " ('ALS Unit', 'string'),\n",
       " ('Call Type Group', 'string'),\n",
       " ('Number of Alarms', 'string'),\n",
       " ('Unit Type', 'string'),\n",
       " ('Unit sequence in call dispatch', 'string'),\n",
       " ('Fire Prevention District', 'string'),\n",
       " ('Supervisor District', 'string'),\n",
       " ('Neighborhooods - Analysis Boundaries', 'string'),\n",
       " ('RowID', 'string'),\n",
       " ('case_location', 'string'),\n",
       " ('Analysis Neighborhoods', 'string')]"
      ]
     },
     "execution_count": 5,
     "metadata": {},
     "output_type": "execute_result"
    }
   ],
   "source": [
    "sampleDF.dtypes"
   ]
  },
  {
   "cell_type": "code",
   "execution_count": 6,
   "id": "5070063e-a815-4916-87f8-8a94177de7a4",
   "metadata": {},
   "outputs": [
    {
     "name": "stdout",
     "output_type": "stream",
     "text": [
      "22/11/04 01:09:31 WARN package: Truncated the string representation of a plan since it was too large. This behavior can be adjusted by setting 'spark.sql.debug.maxToStringFields'.\n"
     ]
    },
    {
     "data": {
      "text/html": [
       "<div>\n",
       "<style scoped>\n",
       "    .dataframe tbody tr th:only-of-type {\n",
       "        vertical-align: middle;\n",
       "    }\n",
       "\n",
       "    .dataframe tbody tr th {\n",
       "        vertical-align: top;\n",
       "    }\n",
       "\n",
       "    .dataframe thead th {\n",
       "        text-align: right;\n",
       "    }\n",
       "</style>\n",
       "<table border=\"1\" class=\"dataframe\">\n",
       "  <thead>\n",
       "    <tr style=\"text-align: right;\">\n",
       "      <th></th>\n",
       "      <th>Call Number</th>\n",
       "      <th>Unit ID</th>\n",
       "      <th>Incident Number</th>\n",
       "      <th>Call Type</th>\n",
       "      <th>Call Date</th>\n",
       "      <th>Watch Date</th>\n",
       "      <th>Received DtTm</th>\n",
       "      <th>Entry DtTm</th>\n",
       "      <th>Dispatch DtTm</th>\n",
       "      <th>Response DtTm</th>\n",
       "      <th>...</th>\n",
       "      <th>Call Type Group</th>\n",
       "      <th>Number of Alarms</th>\n",
       "      <th>Unit Type</th>\n",
       "      <th>Unit sequence in call dispatch</th>\n",
       "      <th>Fire Prevention District</th>\n",
       "      <th>Supervisor District</th>\n",
       "      <th>Neighborhooods - Analysis Boundaries</th>\n",
       "      <th>RowID</th>\n",
       "      <th>case_location</th>\n",
       "      <th>Analysis Neighborhoods</th>\n",
       "    </tr>\n",
       "  </thead>\n",
       "  <tbody>\n",
       "    <tr>\n",
       "      <th>0</th>\n",
       "      <td>221210313</td>\n",
       "      <td>E36</td>\n",
       "      <td>22054955</td>\n",
       "      <td>Outside Fire</td>\n",
       "      <td>05/01/2022</td>\n",
       "      <td>04/30/2022</td>\n",
       "      <td>05/01/2022 02:58:25 AM</td>\n",
       "      <td>05/01/2022 02:59:15 AM</td>\n",
       "      <td>05/01/2022 02:59:25 AM</td>\n",
       "      <td>05/01/2022 03:01:06 AM</td>\n",
       "      <td>...</td>\n",
       "      <td>Fire</td>\n",
       "      <td>1</td>\n",
       "      <td>ENGINE</td>\n",
       "      <td>1</td>\n",
       "      <td>2</td>\n",
       "      <td>5</td>\n",
       "      <td>Hayes Valley</td>\n",
       "      <td>221210313-E36</td>\n",
       "      <td>POINT (-122.42316555403964 37.77781524520032)</td>\n",
       "      <td>9</td>\n",
       "    </tr>\n",
       "    <tr>\n",
       "      <th>1</th>\n",
       "      <td>220190150</td>\n",
       "      <td>E29</td>\n",
       "      <td>22008871</td>\n",
       "      <td>Alarms</td>\n",
       "      <td>01/19/2022</td>\n",
       "      <td>01/18/2022</td>\n",
       "      <td>01/19/2022 01:42:12 AM</td>\n",
       "      <td>01/19/2022 01:44:13 AM</td>\n",
       "      <td>01/19/2022 01:44:28 AM</td>\n",
       "      <td>01/19/2022 01:46:47 AM</td>\n",
       "      <td>...</td>\n",
       "      <td>Alarm</td>\n",
       "      <td>1</td>\n",
       "      <td>ENGINE</td>\n",
       "      <td>1</td>\n",
       "      <td>3</td>\n",
       "      <td>10</td>\n",
       "      <td>Potrero Hill</td>\n",
       "      <td>220190150-E29</td>\n",
       "      <td>POINT (-122.39469970274361 37.76460987856451)</td>\n",
       "      <td>26</td>\n",
       "    </tr>\n",
       "    <tr>\n",
       "      <th>2</th>\n",
       "      <td>211233271</td>\n",
       "      <td>T07</td>\n",
       "      <td>21053032</td>\n",
       "      <td>Alarms</td>\n",
       "      <td>05/03/2021</td>\n",
       "      <td>05/03/2021</td>\n",
       "      <td>05/03/2021 09:28:12 PM</td>\n",
       "      <td>05/03/2021 09:28:12 PM</td>\n",
       "      <td>05/03/2021 09:28:17 PM</td>\n",
       "      <td>05/03/2021 09:29:10 PM</td>\n",
       "      <td>...</td>\n",
       "      <td>Alarm</td>\n",
       "      <td>1</td>\n",
       "      <td>TRUCK</td>\n",
       "      <td>2</td>\n",
       "      <td>2</td>\n",
       "      <td>9</td>\n",
       "      <td>Mission</td>\n",
       "      <td>211233271-T07</td>\n",
       "      <td>POINT (-122.42057572093252 37.76418194637148)</td>\n",
       "      <td>20</td>\n",
       "    </tr>\n",
       "    <tr>\n",
       "      <th>3</th>\n",
       "      <td>212933533</td>\n",
       "      <td>B02</td>\n",
       "      <td>21127914</td>\n",
       "      <td>Alarms</td>\n",
       "      <td>10/20/2021</td>\n",
       "      <td>10/20/2021</td>\n",
       "      <td>10/20/2021 10:08:47 PM</td>\n",
       "      <td>10/20/2021 10:09:53 PM</td>\n",
       "      <td>10/20/2021 10:10:07 PM</td>\n",
       "      <td>10/20/2021 10:11:55 PM</td>\n",
       "      <td>...</td>\n",
       "      <td>Alarm</td>\n",
       "      <td>1</td>\n",
       "      <td>CHIEF</td>\n",
       "      <td>3</td>\n",
       "      <td>3</td>\n",
       "      <td>6</td>\n",
       "      <td>Tenderloin</td>\n",
       "      <td>212933533-B02</td>\n",
       "      <td>POINT (-122.41243514072728 37.78347684038771)</td>\n",
       "      <td>36</td>\n",
       "    </tr>\n",
       "    <tr>\n",
       "      <th>4</th>\n",
       "      <td>221202543</td>\n",
       "      <td>E41</td>\n",
       "      <td>22054815</td>\n",
       "      <td>Alarms</td>\n",
       "      <td>04/30/2022</td>\n",
       "      <td>04/30/2022</td>\n",
       "      <td>04/30/2022 06:35:58 PM</td>\n",
       "      <td>04/30/2022 06:37:28 PM</td>\n",
       "      <td>04/30/2022 06:37:43 PM</td>\n",
       "      <td>04/30/2022 06:38:17 PM</td>\n",
       "      <td>...</td>\n",
       "      <td>Alarm</td>\n",
       "      <td>1</td>\n",
       "      <td>ENGINE</td>\n",
       "      <td>4</td>\n",
       "      <td>4</td>\n",
       "      <td>2</td>\n",
       "      <td>Russian Hill</td>\n",
       "      <td>221202543-E41</td>\n",
       "      <td>POINT (-122.4233369425531 37.799534868680034)</td>\n",
       "      <td>32</td>\n",
       "    </tr>\n",
       "  </tbody>\n",
       "</table>\n",
       "<p>5 rows × 35 columns</p>\n",
       "</div>"
      ],
      "text/plain": [
       "  Call Number Unit ID Incident Number     Call Type   Call Date  Watch Date  \\\n",
       "0   221210313     E36        22054955  Outside Fire  05/01/2022  04/30/2022   \n",
       "1   220190150     E29        22008871        Alarms  01/19/2022  01/18/2022   \n",
       "2   211233271     T07        21053032        Alarms  05/03/2021  05/03/2021   \n",
       "3   212933533     B02        21127914        Alarms  10/20/2021  10/20/2021   \n",
       "4   221202543     E41        22054815        Alarms  04/30/2022  04/30/2022   \n",
       "\n",
       "            Received DtTm              Entry DtTm           Dispatch DtTm  \\\n",
       "0  05/01/2022 02:58:25 AM  05/01/2022 02:59:15 AM  05/01/2022 02:59:25 AM   \n",
       "1  01/19/2022 01:42:12 AM  01/19/2022 01:44:13 AM  01/19/2022 01:44:28 AM   \n",
       "2  05/03/2021 09:28:12 PM  05/03/2021 09:28:12 PM  05/03/2021 09:28:17 PM   \n",
       "3  10/20/2021 10:08:47 PM  10/20/2021 10:09:53 PM  10/20/2021 10:10:07 PM   \n",
       "4  04/30/2022 06:35:58 PM  04/30/2022 06:37:28 PM  04/30/2022 06:37:43 PM   \n",
       "\n",
       "            Response DtTm  ... Call Type Group Number of Alarms Unit Type  \\\n",
       "0  05/01/2022 03:01:06 AM  ...            Fire                1    ENGINE   \n",
       "1  01/19/2022 01:46:47 AM  ...           Alarm                1    ENGINE   \n",
       "2  05/03/2021 09:29:10 PM  ...           Alarm                1     TRUCK   \n",
       "3  10/20/2021 10:11:55 PM  ...           Alarm                1     CHIEF   \n",
       "4  04/30/2022 06:38:17 PM  ...           Alarm                1    ENGINE   \n",
       "\n",
       "  Unit sequence in call dispatch Fire Prevention District Supervisor District  \\\n",
       "0                              1                        2                   5   \n",
       "1                              1                        3                  10   \n",
       "2                              2                        2                   9   \n",
       "3                              3                        3                   6   \n",
       "4                              4                        4                   2   \n",
       "\n",
       "  Neighborhooods - Analysis Boundaries          RowID  \\\n",
       "0                         Hayes Valley  221210313-E36   \n",
       "1                         Potrero Hill  220190150-E29   \n",
       "2                              Mission  211233271-T07   \n",
       "3                           Tenderloin  212933533-B02   \n",
       "4                         Russian Hill  221202543-E41   \n",
       "\n",
       "                                   case_location Analysis Neighborhoods  \n",
       "0  POINT (-122.42316555403964 37.77781524520032)                      9  \n",
       "1  POINT (-122.39469970274361 37.76460987856451)                     26  \n",
       "2  POINT (-122.42057572093252 37.76418194637148)                     20  \n",
       "3  POINT (-122.41243514072728 37.78347684038771)                     36  \n",
       "4  POINT (-122.4233369425531 37.799534868680034)                     32  \n",
       "\n",
       "[5 rows x 35 columns]"
      ]
     },
     "execution_count": 6,
     "metadata": {},
     "output_type": "execute_result"
    }
   ],
   "source": [
    "sampleDF.limit(5) \\\n",
    "        .toPandas()"
   ]
  },
  {
   "cell_type": "markdown",
   "id": "e8e32c91-3187-47dd-b49f-0c61fb16db85",
   "metadata": {
    "tags": []
   },
   "source": [
    "### (c) (2 points) Create a new column named Delay, which is the difference in minutes (rounded to 2DP) between Response DtTm and Received DtTm. Display the Response DtTm, Received DtTm, and Delay for the record with CallNumber 203350320.\n"
   ]
  },
  {
   "cell_type": "code",
   "execution_count": 82,
   "id": "077dc5db-213b-4324-b58d-d26f48155ced",
   "metadata": {},
   "outputs": [
    {
     "name": "stderr",
     "output_type": "stream",
     "text": [
      "[Stage 102:=====================================>                  (8 + 4) / 12]\r"
     ]
    },
    {
     "name": "stdout",
     "output_type": "stream",
     "text": [
      "+----------------------+----------------------+-----+\n",
      "|Response DtTm         |Received DtTm         |Delay|\n",
      "+----------------------+----------------------+-----+\n",
      "|11/30/2020 06:24:05 AM|11/30/2020 06:21:14 AM|2.85 |\n",
      "|null                  |11/30/2020 06:21:14 AM|null |\n",
      "|null                  |11/30/2020 06:21:14 AM|null |\n",
      "|11/30/2020 06:23:56 AM|11/30/2020 06:21:14 AM|2.7  |\n",
      "|11/30/2020 06:22:45 AM|11/30/2020 06:21:14 AM|1.52 |\n",
      "+----------------------+----------------------+-----+\n",
      "\n"
     ]
    },
    {
     "name": "stderr",
     "output_type": "stream",
     "text": [
      "                                                                                \r"
     ]
    }
   ],
   "source": [
    "fire_delay_df = sampleDF.withColumn('Delay', \\\n",
    "                                   f.round( \\\n",
    "                                         (f.to_timestamp(f.col('Response DtTm'), 'MM/dd/yyyy hh:mm:ss a') \\\n",
    "                                          - f.to_timestamp(f.col('Received DtTM'), 'MM/dd/yyyy hh:mm:ss a'))\\\n",
    "                                         .cast('long')/60 , 2 )\n",
    "                                   )\n",
    "\n",
    "# Select the converted columns\n",
    "fire_delay_df.select('Response DtTm', 'Received DtTm', 'Delay') \\\n",
    "             .where(f.col('Call Number') == 203350320) \\\n",
    "             .show(truncate=False)\n"
   ]
  },
  {
   "cell_type": "markdown",
   "id": "4a6296fe-0e05-46b0-bb8c-1e82e3b497d0",
   "metadata": {
    "tags": []
   },
   "source": [
    "### (d) (2 points) Drop the following columns from the dataset and arrange the data such that the same schema from the tutorial given in class can be used to read the dataset: Received DtTm, Entry DtTm, Dispatch DtTm, Response DtTm, On Scene DtTm, Transport DtTm, Hospital DtTm"
   ]
  },
  {
   "cell_type": "code",
   "execution_count": 10,
   "id": "46af8617-bc9c-4509-b14a-33863948975d",
   "metadata": {},
   "outputs": [],
   "source": [
    "reformatted_df = fire_delay_df \\\n",
    "                              .drop('Received DtTm', 'Entry DtTm', 'Dispatch DtTm', 'Response DtTm', 'On Scene DtTm', 'Transport DtTm', 'Hospital DtTm') \\\n",
    "                              .select('Call Number',\n",
    "                                    'Unit ID',\n",
    "                                    'Incident Number',\n",
    "                                    'Call Type',\n",
    "                                    'Call Date',\n",
    "                                    'Watch Date',\n",
    "                                    'Call Final Disposition',\n",
    "                                    'Available DtTm',\n",
    "                                    'Address',\n",
    "                                    'City',\n",
    "                                    'Zipcode of Incident',\n",
    "                                    'Battalion',\n",
    "                                    'Station Area',\n",
    "                                    'Box',\n",
    "                                    'Original Priority',\n",
    "                                    'Priority',\n",
    "                                    'Final Priority',\n",
    "                                    'ALS Unit',\n",
    "                                    'Call Type Group',\n",
    "                                    'Number of Alarms',\n",
    "                                    'Unit Type',\n",
    "                                    'Unit Sequence In Call Dispatch',\n",
    "                                    'Fire Prevention District',\n",
    "                                    'Supervisor District',\n",
    "                                    'Neighborhooods - Analysis Boundaries',\n",
    "                                    'case_location',\n",
    "                                    'RowID',\n",
    "                                    'Delay')"
   ]
  },
  {
   "cell_type": "markdown",
   "id": "cc363380-267c-4132-b9da-322dfe2853ce",
   "metadata": {},
   "source": [
    "### (e) (2 points) Save the modified dataset with only the columns featured in the in-class tutorial to a single CSV file\n"
   ]
  },
  {
   "cell_type": "code",
   "execution_count": 11,
   "id": "a70e63c9-ceb7-4a39-901c-db59b8e30ef2",
   "metadata": {},
   "outputs": [
    {
     "data": {
      "text/plain": [
       "['Call Number',\n",
       " 'Unit ID',\n",
       " 'Incident Number',\n",
       " 'Call Type',\n",
       " 'Call Date',\n",
       " 'Watch Date',\n",
       " 'Call Final Disposition',\n",
       " 'Available DtTm',\n",
       " 'Address',\n",
       " 'City',\n",
       " 'Zipcode of Incident',\n",
       " 'Battalion',\n",
       " 'Station Area',\n",
       " 'Box',\n",
       " 'Original Priority',\n",
       " 'Priority',\n",
       " 'Final Priority',\n",
       " 'ALS Unit',\n",
       " 'Call Type Group',\n",
       " 'Number of Alarms',\n",
       " 'Unit Type',\n",
       " 'Unit Sequence In Call Dispatch',\n",
       " 'Fire Prevention District',\n",
       " 'Supervisor District',\n",
       " 'Neighborhooods - Analysis Boundaries',\n",
       " 'case_location',\n",
       " 'RowID',\n",
       " 'Delay']"
      ]
     },
     "execution_count": 11,
     "metadata": {},
     "output_type": "execute_result"
    }
   ],
   "source": [
    "reformatted_df.columns"
   ]
  },
  {
   "cell_type": "code",
   "execution_count": null,
   "id": "c5253306-50da-4f3f-9ef8-8398f431de07",
   "metadata": {
    "tags": []
   },
   "outputs": [],
   "source": [
    "reformatted_df.coalesce(1).write \\\n",
    "                          .option('header', 'false') \\\n",
    "                          .csv('./datacsv/')"
   ]
  },
  {
   "cell_type": "markdown",
   "id": "5857489d-92d8-492c-a0e0-36afdd5f857a",
   "metadata": {},
   "source": [
    "### (f) (1 point) Read the updated dataset using the schema provided in the in-class tutorial"
   ]
  },
  {
   "cell_type": "code",
   "execution_count": 6,
   "id": "d949014c-d1c9-4957-858b-8a8484882e14",
   "metadata": {},
   "outputs": [],
   "source": [
    "from pyspark.sql.types import *\n",
    "\n",
    "fire_schema = StructType([StructField('CallNumber', IntegerType(), True),\n",
    "                StructField('UnitID', StringType(), True),\n",
    "                StructField('IncidentNumber', IntegerType(), True),\n",
    "                StructField('CallType', StringType(), True),\n",
    "                StructField('CallDate', StringType(), True),\n",
    "                StructField('WatchDate', StringType(), True),\n",
    "                StructField('CallFinalDisposition', StringType(), True),\n",
    "                StructField('AvailableDtTm', StringType(), True),\n",
    "                StructField('Address', StringType(), True),\n",
    "                StructField('City', StringType(), True),\n",
    "                StructField('Zipcode', IntegerType(), True),\n",
    "                StructField('Battalion', StringType(), True),\n",
    "                StructField('StationArea', StringType(), True),\n",
    "                StructField('Box', StringType(), True),\n",
    "                StructField('OriginalPriority', StringType(), True),\n",
    "                StructField('Priority', StringType(), True),\n",
    "                StructField('FinalPriority', IntegerType(), True),\n",
    "                StructField('ALSUnit', BooleanType(), True),\n",
    "                StructField('CallTypeGroup', StringType(), True),\n",
    "                StructField('NumAlarms', IntegerType(), True),\n",
    "                StructField('UnitType', StringType(), True),\n",
    "                StructField('UnitSequenceInCallDispatch', IntegerType(), True),\n",
    "                StructField('FirePreventionDistrict', StringType(), True),\n",
    "                StructField('SupervisorDistrict', StringType(), True),\n",
    "                StructField('Neighborhood', StringType(), True),\n",
    "                StructField('Location', StringType(), True),\n",
    "                StructField('RowID', StringType(), True),\n",
    "                StructField('Delay', FloatType(), True)])\n",
    "\n"
   ]
  },
  {
   "cell_type": "code",
   "execution_count": 7,
   "id": "857d58ac-c1cc-4e45-b224-317f51fea507",
   "metadata": {},
   "outputs": [],
   "source": [
    "filecsv = glob.glob('./datacsv/*.csv')"
   ]
  },
  {
   "cell_type": "code",
   "execution_count": 8,
   "id": "8a7b7fd0-7bda-4e61-ae0c-b025ecb9e04c",
   "metadata": {},
   "outputs": [
    {
     "name": "stdout",
     "output_type": "stream",
     "text": [
      "['./datacsv/part-00000-94740680-f4dd-4c4a-abef-23930004c222-c000.csv']\n"
     ]
    }
   ],
   "source": [
    "print(filecsv)"
   ]
  },
  {
   "cell_type": "code",
   "execution_count": 9,
   "id": "5306a83c-5e3c-4abc-bf0f-8e3dabf72fe9",
   "metadata": {},
   "outputs": [],
   "source": [
    "fire_df = spark.read.csv(filecsv[0], header=False, schema=fire_schema)"
   ]
  },
  {
   "cell_type": "markdown",
   "id": "936770fe-1648-4960-a42f-5e59b001ca24",
   "metadata": {},
   "source": [
    "### (g) (1 point) Return a list of 10 Distinct Call Types"
   ]
  },
  {
   "cell_type": "code",
   "execution_count": 10,
   "id": "cf216840-01a7-4c99-baec-c1ad546b4950",
   "metadata": {},
   "outputs": [
    {
     "name": "stderr",
     "output_type": "stream",
     "text": [
      "[Stage 1:===========================================>              (9 + 3) / 12]\r"
     ]
    },
    {
     "name": "stdout",
     "output_type": "stream",
     "text": [
      "+-----------------------------------+\n",
      "|DistinctCallTypes                  |\n",
      "+-----------------------------------+\n",
      "|Elevator / Escalator Rescue        |\n",
      "|Marine Fire                        |\n",
      "|Aircraft Emergency                 |\n",
      "|Confined Space / Structure Collapse|\n",
      "|Administrative                     |\n",
      "|Alarms                             |\n",
      "|Odor (Strange / Unknown)           |\n",
      "|Citizen Assist / Service Call      |\n",
      "|HazMat                             |\n",
      "|Watercraft in Distress             |\n",
      "+-----------------------------------+\n",
      "only showing top 10 rows\n",
      "\n"
     ]
    },
    {
     "name": "stderr",
     "output_type": "stream",
     "text": [
      "                                                                                \r"
     ]
    }
   ],
   "source": [
    "fire_df.select(f.col('CallType').alias('DistinctCallTypes')) \\\n",
    "       .where(f.col('CallType').isNotNull()) \\\n",
    "       .distinct() \\\n",
    "       .show(10, False)"
   ]
  },
  {
   "cell_type": "markdown",
   "id": "be3d2445-c9cd-4aae-8761-12fc58c14857",
   "metadata": {},
   "source": [
    "### (h) (1 point) Return a count of the distinct Call Types"
   ]
  },
  {
   "cell_type": "code",
   "execution_count": 11,
   "id": "d30016ca-9b55-499e-84e8-c70acfcba914",
   "metadata": {},
   "outputs": [
    {
     "name": "stderr",
     "output_type": "stream",
     "text": [
      "[Stage 4:===========================================>              (9 + 3) / 12]\r"
     ]
    },
    {
     "name": "stdout",
     "output_type": "stream",
     "text": [
      "+----------------------+\n",
      "|DistinctCallTypesCount|\n",
      "+----------------------+\n",
      "|                    32|\n",
      "+----------------------+\n",
      "\n"
     ]
    },
    {
     "name": "stderr",
     "output_type": "stream",
     "text": [
      "                                                                                \r"
     ]
    }
   ],
   "source": [
    "fire_df.select('CallType') \\\n",
    "       .where(f.col('CallType').isNotNull()) \\\n",
    "       .agg(f.countDistinct('CallType').alias('DistinctCallTypesCount')) \\\n",
    "       .show()"
   ]
  },
  {
   "cell_type": "markdown",
   "id": "029d83c9-2468-4e6c-aa64-a797b08edbdf",
   "metadata": {},
   "source": [
    "### (i) (1 point) Rename the Delay column to ResponseDelayedinMins and return the top 5 records (sorted by ResponseDelayedinMins in descending order) where ResponseDelayedinMins > 5 (Show only the ResponseDelayedinMins column in your output)\n"
   ]
  },
  {
   "cell_type": "code",
   "execution_count": 12,
   "id": "e7e2ab26-ed7b-4b90-88c2-4b60a0d223d5",
   "metadata": {},
   "outputs": [],
   "source": [
    "renamed_df = fire_df.withColumnRenamed('Delay', 'ResponseDelayedinMins')\n"
   ]
  },
  {
   "cell_type": "code",
   "execution_count": 13,
   "id": "6d9e1a87-cbe6-4606-b342-198468a1e06a",
   "metadata": {},
   "outputs": [
    {
     "name": "stdout",
     "output_type": "stream",
     "text": [
      "+---------------------+\n",
      "|ResponseDelayedinMins|\n",
      "+---------------------+\n",
      "|23.83                |\n",
      "|20.9                 |\n",
      "|5.27                 |\n",
      "|5.2                  |\n",
      "|6.3                  |\n",
      "+---------------------+\n",
      "only showing top 5 rows\n",
      "\n"
     ]
    }
   ],
   "source": [
    "renamed_df.select('ResponseDelayedinMins') \\\n",
    "          .where(f.col('ResponseDelayedinMins') > 5) \\\n",
    "          .show(5, False)"
   ]
  },
  {
   "cell_type": "markdown",
   "id": "db3a59ec-75d5-434e-924f-c0a9a977ba5c",
   "metadata": {},
   "source": [
    "### (j) (2 points) Return a list of the top 10 delayed Fire Responses sorted in descending order and showing the Call Type, Address (Full address in title-case in one column including City and Zip Code), Battalion, ResponseDelayedinMins, and Unit Type\n"
   ]
  },
  {
   "cell_type": "code",
   "execution_count": 14,
   "id": "d40c41bf-d11e-46d1-b4c6-742743f20b9c",
   "metadata": {},
   "outputs": [
    {
     "name": "stderr",
     "output_type": "stream",
     "text": [
      "[Stage 11:==========================================>              (9 + 3) / 12]\r"
     ]
    },
    {
     "name": "stdout",
     "output_type": "stream",
     "text": [
      "+----------+----------------------------------+-------------------------------------------------+---------+---------------------+-------------+\n",
      "|CallNumber|CallType                          |array(Address, City, Zipcode)                    |Battalion|ResponseDelayedinMins|UnitType     |\n",
      "+----------+----------------------------------+-------------------------------------------------+---------+---------------------+-------------+\n",
      "|201440320 |Structure Fire                    |[200 Block of JEFFERSON ST, San Francisco, 94133]|B01      |2465.28              |ENGINE       |\n",
      "|201440320 |Structure Fire                    |[200 Block of JEFFERSON ST, San Francisco, 94133]|B01      |2234.07              |ENGINE       |\n",
      "|203020714 |Mutual Aid / Assist Outside Agency|[BLUE RIDGE FIRE, null, 94110]                   |B06      |2176.63              |ENGINE       |\n",
      "|201440320 |Structure Fire                    |[200 Block of JEFFERSON ST, San Francisco, 94133]|B01      |1997.77              |ENGINE       |\n",
      "|2920036   |Structure Fire                    |[1300 Block of MISSION ST, SF, 94103]            |B02      |1879.62              |ENGINE       |\n",
      "|171580719 |Alarms                            |[0 Block of 6TH ST, San Francisco, 94103]        |B02      |1844.55              |INVESTIGATION|\n",
      "|201440320 |Structure Fire                    |[200 Block of JEFFERSON ST, San Francisco, 94133]|B01      |1793.2               |ENGINE       |\n",
      "|201440320 |Structure Fire                    |[200 Block of JEFFERSON ST, San Francisco, 94133]|B01      |1769.47              |ENGINE       |\n",
      "|92420136  |Structure Fire                    |[1500 Block of WALLACE AVE, SF, 94124]           |B10      |1739.43              |ENGINE       |\n",
      "|202100407 |Structure Fire                    |[ERIE ST/FOLSOM ST, San Francisco, 94103]        |B02      |1683.83              |TRUCK        |\n",
      "+----------+----------------------------------+-------------------------------------------------+---------+---------------------+-------------+\n",
      "only showing top 10 rows\n",
      "\n"
     ]
    },
    {
     "name": "stderr",
     "output_type": "stream",
     "text": [
      "                                                                                \r"
     ]
    }
   ],
   "source": [
    "top_responses = renamed_df.select('CallNumber', 'CallType', f.array(['Address', 'City', 'Zipcode']), 'Battalion', 'ResponseDelayedinMins', 'UnitType') \\\n",
    "              .sort(f.col('ResponseDelayedinMins').desc())\\\n",
    "\n",
    "top_responses.show(10, False)"
   ]
  },
  {
   "cell_type": "markdown",
   "id": "d8c19f82-a980-4a1a-bd06-60e286881cd9",
   "metadata": {
    "tags": []
   },
   "source": [
    "### (k) (2 points) Create a horizontal bar chart of the top 10 delayed Fire Responses (ResponseDelayedinMins vs Call Number)\n"
   ]
  },
  {
   "cell_type": "code",
   "execution_count": 15,
   "id": "400d0b53-b054-47dd-a9a5-1c0687d5b5ae",
   "metadata": {
    "tags": []
   },
   "outputs": [
    {
     "name": "stderr",
     "output_type": "stream",
     "text": [
      "                                                                                \r"
     ]
    }
   ],
   "source": [
    "pandas_df = (top_responses.select('CallNumber', 'ResponseDelayedinMins')).toPandas().head(10)"
   ]
  },
  {
   "cell_type": "code",
   "execution_count": 16,
   "id": "509cf85c-7475-4c22-9a43-a360bf2a7711",
   "metadata": {},
   "outputs": [
    {
     "data": {
      "text/plain": [
       "<AxesSubplot: ylabel='CallNumber'>"
      ]
     },
     "execution_count": 16,
     "metadata": {},
     "output_type": "execute_result"
    },
    {
     "data": {
      "image/png": "[encoded data removed]",
      "text/plain": [
       "<Figure size 640x480 with 1 Axes>"
      ]
     },
     "metadata": {},
     "output_type": "display_data"
    }
   ],
   "source": [
    "pandas_df.plot(kind=\"barh\", x=\"CallNumber\",y=\"ResponseDelayedinMins\")"
   ]
  },
  {
   "cell_type": "markdown",
   "id": "90db9227-98f5-4f4b-b215-c09af2d54cf9",
   "metadata": {
    "tags": []
   },
   "source": [
    "### (l) (2 points) Convert the following fields to date: CallDate, WatchDate, AvailableDtTm\n"
   ]
  },
  {
   "cell_type": "code",
   "execution_count": 17,
   "id": "9403f3c8-1eaf-46c5-b21b-266c350445fd",
   "metadata": {},
   "outputs": [],
   "source": [
    "date_df = renamed_df.withColumn('CallDate', f.to_date('CallDate', 'MM/dd/yyyy')) \\\n",
    "                    .withColumn('WatchDate', f.to_date('CallDate', 'MM/dd/yyyy')) \\\n",
    "                    .withColumn('AvailableDtTm', f.to_date('CallDate','MM/dd/yyyy'))"
   ]
  },
  {
   "cell_type": "markdown",
   "id": "77aa2dd7-d350-4a78-888b-28a658ebdef1",
   "metadata": {
    "tags": []
   },
   "source": [
    "### (m) (2 points) Show a complete list of the distinct years represented in the dataset based on the IncidentDate"
   ]
  },
  {
   "cell_type": "code",
   "execution_count": 18,
   "id": "0f9a07c0-595a-43a6-b831-4380c398a420",
   "metadata": {},
   "outputs": [],
   "source": [
    "distinct_years = date_df.withColumn('CallDate', f.date_format('CallDate','yyyy'))"
   ]
  },
  {
   "cell_type": "code",
   "execution_count": 19,
   "id": "cdc5ca16-4dec-4a7b-9795-837e6012fff6",
   "metadata": {},
   "outputs": [
    {
     "name": "stderr",
     "output_type": "stream",
     "text": [
      "                                                                                \r"
     ]
    }
   ],
   "source": [
    "years = distinct_years.select('CallDate') \\\n",
    "                      .distinct() \\\n",
    "                      .orderBy('CallDate') \\\n",
    "                      .collect()"
   ]
  },
  {
   "cell_type": "code",
   "execution_count": 20,
   "id": "86551216-6f70-4f34-8856-8c8291929c29",
   "metadata": {},
   "outputs": [
    {
     "name": "stdout",
     "output_type": "stream",
     "text": [
      "2000\n",
      "2001\n",
      "2002\n",
      "2003\n",
      "2004\n",
      "2005\n",
      "2006\n",
      "2007\n",
      "2008\n",
      "2009\n",
      "2010\n",
      "2011\n",
      "2012\n",
      "2013\n",
      "2014\n",
      "2015\n",
      "2016\n",
      "2017\n",
      "2018\n",
      "2019\n",
      "2020\n",
      "2021\n",
      "2022\n"
     ]
    }
   ],
   "source": [
    "for row in years:\n",
    "    print(row['CallDate'])"
   ]
  },
  {
   "cell_type": "markdown",
   "id": "8664cbb6-2815-4d96-a3f0-99d1eb5b5071",
   "metadata": {},
   "source": [
    "# 2. EDA (20 points)"
   ]
  },
  {
   "cell_type": "markdown",
   "id": "d6db1481-b90b-44ed-a5cc-c7ed1e3cc720",
   "metadata": {},
   "source": [
    "### (a) (2 points) Create a MonthYear Column in the dataset of the format YYYYMM (eg: 202209) based on the IncidentDate"
   ]
  },
  {
   "cell_type": "code",
   "execution_count": 21,
   "id": "ab53c20f-a3fa-46dd-bccb-24ea351b59aa",
   "metadata": {},
   "outputs": [],
   "source": [
    "monthyear_df = date_df.withColumn('MonthYear', f.date_format('CallDate','yyyyMM'))"
   ]
  },
  {
   "cell_type": "code",
   "execution_count": 22,
   "id": "9b8a6078-8386-4b31-b012-7930f47daaa8",
   "metadata": {},
   "outputs": [
    {
     "name": "stdout",
     "output_type": "stream",
     "text": [
      "+---------+\n",
      "|MonthYear|\n",
      "+---------+\n",
      "|202205   |\n",
      "|202201   |\n",
      "|202105   |\n",
      "|202110   |\n",
      "|202204   |\n",
      "+---------+\n",
      "only showing top 5 rows\n",
      "\n"
     ]
    }
   ],
   "source": [
    "monthyear_df.select('MonthYear').show(5,False)"
   ]
  },
  {
   "cell_type": "markdown",
   "id": "faa1c5bd-93ec-4f3c-9469-0d1c3f61534e",
   "metadata": {},
   "source": [
    "### (b) (10 points) Create an in-memory DataFrame that stores the Temperature and the MonthYear from Global Summary of the Month (GSOM) data dynamically harvested from the NOAA API from the weather station located Downtown, San Francisco."
   ]
  },
  {
   "cell_type": "code",
   "execution_count": 143,
   "id": "c8f62c86-d163-4e7f-8fc4-bce869266524",
   "metadata": {
    "tags": []
   },
   "outputs": [
    {
     "name": "stdout",
     "output_type": "stream",
     "text": [
      "273\n"
     ]
    }
   ],
   "source": [
    "from dotenv import load_dotenv\n",
    "from pprint import pprint\n",
    "import requests\n",
    "import os\n",
    "import datetime\n",
    "\n",
    "load_dotenv('./variables.env')\n",
    "\n",
    "api_key = os.environ.get('NOAA_API_KEY')\n",
    "headers = {'token':api_key}\n",
    "\n",
    "# GHCND:USW00023272 SF Downtown\n",
    "offsetarg = 1\n",
    "start = 2000\n",
    "startend = start + 9\n",
    "end = 2022\n",
    "limitarg = 1000\n",
    "datasetidarg = 'GSOM'\n",
    "stationidarg = 'GHCND:USW00023272'\n",
    "datatypeidarg = 'TAVG'\n",
    "\n",
    "pageurl = '''\\\n",
    "https://www.ncei.noaa.gov/cdo-web/api/v2/data\\\n",
    "?datasetid={datasetid}\\\n",
    "&stationid={stationid}\\\n",
    "&datatypeid={datatypeid}\n",
    "&units=standard&\\\n",
    "&startdate={start}-01-01\\\n",
    "&enddate={end}-12-31\\\n",
    "&limit={limit}\\\n",
    "&offset={offset}\\\n",
    "'''\n",
    "\n",
    "\n",
    "currentend = datetime.datetime.strptime(str(startend)+'-12', '%Y-%m')\n",
    "yearend = datetime.datetime.strptime(str(end)+'-12', '%Y-%m')\n",
    "\n",
    "temperature = []\n",
    "\n",
    "\n",
    "#Pagination\n",
    "while True:\n",
    "    url = pageurl.format(datasetid = datasetidarg,\\\n",
    "          stationid = stationidarg, \\\n",
    "          datatypeid=datatypeidarg, \\\n",
    "          start= start, \\\n",
    "          end = startend, \\\n",
    "          limit = limitarg, \\\n",
    "          offset = offsetarg)\n",
    "    \n",
    "    # print(url)\n",
    "    response = requests.get(url, headers=headers)\n",
    "    \n",
    "    if response.status_code == 200:\n",
    "        json = response.json()\n",
    "        count = json['metadata']['resultset']['count']\n",
    "        limit = json['metadata']['resultset']['limit']\n",
    "        offset = json['metadata']['resultset']['offset']\n",
    "        \n",
    "        temperature.extend(json['results'])\n",
    "        # pprint(json)\n",
    "        # print(count)\n",
    "        \n",
    "        current = datetime.datetime.strptime(temperature[-1]['date'][:7], '%Y-%m')\n",
    "        # print(current)\n",
    "        # print(currentend)\n",
    "        \n",
    "        if startend == end:\n",
    "            break\n",
    "        \n",
    "        if offset*limit < count:\n",
    "            offset += 1\n",
    "            \n",
    "        if current >= currentend:\n",
    "            start += 10\n",
    "            startend = start + 9\n",
    "            currentend = datetime.datetime.strptime(str(startend)+'-12', '%Y-%m')\n",
    "            offset = 0\n",
    "\n",
    "        if currentend >= yearend:\n",
    "            startend = end\n",
    "            currentend = yearend\n",
    "            \n",
    "    else:\n",
    "        print(response.content)\n",
    "        break;\n",
    "        \n",
    "# pprint(temperature)\n",
    "# for x in temperature:\n",
    "#     x.update((k, float(v)) for k, v in x.items()  if k == 'value')\n",
    "        \n",
    "# pprint(temperature[1])\n",
    "# temperature_float = [{**x,{'value':float(x['value'])}} for x in temperature]\n",
    "\n",
    "pprint(len(temperature))\n",
    "temp_df = spark.createDataFrame(temperature[3:]).drop('attributes','datatype', 'station') \\\n",
    "                                            .withColumn('date', f.date_format(f.to_date('date'), 'yyyyMM')) \\\n",
    "                                            .withColumnRenamed('date', 'MonthYear') \\\n",
    "                                            .withColumnRenamed('value', 'AverageTemperature')\n"
   ]
  },
  {
   "cell_type": "code",
   "execution_count": 144,
   "id": "f8664ca6-d8c1-47da-bb6a-22c66c3fed3e",
   "metadata": {},
   "outputs": [
    {
     "name": "stderr",
     "output_type": "stream",
     "text": [
      "                                                                                \r"
     ]
    },
    {
     "data": {
      "text/plain": [
       "271"
      ]
     },
     "execution_count": 144,
     "metadata": {},
     "output_type": "execute_result"
    }
   ],
   "source": [
    "monthyear_df.groupBy('MonthYear') \\\n",
    "            .count() \\\n",
    "            .orderBy('MonthYear') \\\n",
    "            .count()"
   ]
  },
  {
   "cell_type": "code",
   "execution_count": 145,
   "id": "46b5f6dc-c9d7-43b4-94ae-83fb0c8a60e8",
   "metadata": {},
   "outputs": [
    {
     "data": {
      "text/plain": [
       "270"
      ]
     },
     "execution_count": 145,
     "metadata": {},
     "output_type": "execute_result"
    }
   ],
   "source": [
    "temp_df.groupBy('MonthYear') \\\n",
    "        .count() \\\n",
    "        .orderBy('MonthYear') \\\n",
    "        .count()"
   ]
  },
  {
   "cell_type": "markdown",
   "id": "92150587-c8c5-40f2-b59b-b9a806d1a542",
   "metadata": {
    "tags": []
   },
   "source": [
    "### (c) (5 points) Augment the dataset with the temperature data and group the data by MonthYear\n"
   ]
  },
  {
   "cell_type": "code",
   "execution_count": 146,
   "id": "512b3120-643c-4e0a-81ed-19525eff1c75",
   "metadata": {},
   "outputs": [],
   "source": [
    "#inner join the dataset\n",
    "\n",
    "augmented_df = monthyear_df.join(temp_df,'MonthYear') \\\n",
    "                           .groupBy('MonthYear')\n"
   ]
  },
  {
   "cell_type": "markdown",
   "id": "c3a9d559-1ace-4ed9-87cd-c936f05247d7",
   "metadata": {},
   "source": [
    "### (3 points) Answer the following question: Is there correlation between the average monthly temperature and the number of fire calls per month?"
   ]
  },
  {
   "cell_type": "code",
   "execution_count": 147,
   "id": "b0c21b1c-c475-4c52-9cda-1e1e58051ea2",
   "metadata": {},
   "outputs": [],
   "source": [
    "corr_df = augmented_df.agg( \\\n",
    "                        f.count('MonthYear').alias('CallsPerMonth'), \\\n",
    "                        f.round(f.avg('AverageTemperature'),2).alias('AverageTemperature'))"
   ]
  },
  {
   "cell_type": "markdown",
   "id": "bb26765a-443a-406f-9cf8-b83154f121dc",
   "metadata": {},
   "source": [
    "### Temperature values are in Celcius"
   ]
  },
  {
   "cell_type": "code",
   "execution_count": 148,
   "id": "549a8e54-995f-4c79-a663-8df216fbb1e0",
   "metadata": {},
   "outputs": [
    {
     "name": "stderr",
     "output_type": "stream",
     "text": [
      "[Stage 264:>                                                        (0 + 1) / 1]\r"
     ]
    },
    {
     "name": "stdout",
     "output_type": "stream",
     "text": [
      "+---------+-------------+------------------+\n",
      "|MonthYear|CallsPerMonth|AverageTemperature|\n",
      "+---------+-------------+------------------+\n",
      "|   200004|        10059|              57.1|\n",
      "|   202204|        16067|              55.7|\n",
      "|   200109|        16800|              61.0|\n",
      "|   200102|        16968|              52.1|\n",
      "|   200011|        17501|              53.8|\n",
      "|   200502|        17515|              55.8|\n",
      "|   200411|        17747|              56.5|\n",
      "|   200104|        17751|              52.5|\n",
      "|   200204|        17783|              54.8|\n",
      "|   200111|        17885|              58.6|\n",
      "|   200504|        17913|              55.9|\n",
      "|   200702|        17995|              53.0|\n",
      "|   200209|        18016|              61.5|\n",
      "|   200206|        18129|              58.0|\n",
      "|   200207|        18142|              59.2|\n",
      "|   200302|        18204|              54.6|\n",
      "|   200006|        18233|              59.5|\n",
      "|   200107|        18243|              60.5|\n",
      "|   200208|        18397|              60.4|\n",
      "|   200108|        18413|              61.5|\n",
      "+---------+-------------+------------------+\n",
      "only showing top 20 rows\n",
      "\n"
     ]
    },
    {
     "name": "stderr",
     "output_type": "stream",
     "text": [
      "                                                                                \r"
     ]
    }
   ],
   "source": [
    "corr_df.orderBy('CallsPerMonth').show()"
   ]
  },
  {
   "cell_type": "code",
   "execution_count": 149,
   "id": "25c84a93-19f2-43f5-b9a0-48bfeb4a75e1",
   "metadata": {
    "tags": []
   },
   "outputs": [
    {
     "name": "stderr",
     "output_type": "stream",
     "text": [
      "                                                                                \r"
     ]
    }
   ],
   "source": [
    "corr_matrix = corr_df.toPandas().corr()"
   ]
  },
  {
   "cell_type": "code",
   "execution_count": 150,
   "id": "16250611-ab40-42a5-a71e-bf59fc1970c5",
   "metadata": {},
   "outputs": [
    {
     "data": {
      "text/html": [
       "<div>\n",
       "<style scoped>\n",
       "    .dataframe tbody tr th:only-of-type {\n",
       "        vertical-align: middle;\n",
       "    }\n",
       "\n",
       "    .dataframe tbody tr th {\n",
       "        vertical-align: top;\n",
       "    }\n",
       "\n",
       "    .dataframe thead th {\n",
       "        text-align: right;\n",
       "    }\n",
       "</style>\n",
       "<table border=\"1\" class=\"dataframe\">\n",
       "  <thead>\n",
       "    <tr style=\"text-align: right;\">\n",
       "      <th></th>\n",
       "      <th>CallsPerMonth</th>\n",
       "      <th>AverageTemperature</th>\n",
       "    </tr>\n",
       "  </thead>\n",
       "  <tbody>\n",
       "    <tr>\n",
       "      <th>CallsPerMonth</th>\n",
       "      <td>1.000000</td>\n",
       "      <td>0.128636</td>\n",
       "    </tr>\n",
       "    <tr>\n",
       "      <th>AverageTemperature</th>\n",
       "      <td>0.128636</td>\n",
       "      <td>1.000000</td>\n",
       "    </tr>\n",
       "  </tbody>\n",
       "</table>\n",
       "</div>"
      ],
      "text/plain": [
       "                    CallsPerMonth  AverageTemperature\n",
       "CallsPerMonth            1.000000            0.128636\n",
       "AverageTemperature       0.128636            1.000000"
      ]
     },
     "execution_count": 150,
     "metadata": {},
     "output_type": "execute_result"
    }
   ],
   "source": [
    "corr_matrix"
   ]
  },
  {
   "cell_type": "code",
   "execution_count": 151,
   "id": "28a4632d-7157-4955-abef-befb2bcc2041",
   "metadata": {},
   "outputs": [
    {
     "name": "stderr",
     "output_type": "stream",
     "text": [
      "                                                                                \r"
     ]
    }
   ],
   "source": [
    " corr_graph = corr_df.toPandas()"
   ]
  },
  {
   "cell_type": "code",
   "execution_count": 152,
   "id": "5540a699-2a09-4f17-8295-4af466ca03cd",
   "metadata": {},
   "outputs": [
    {
     "data": {
      "text/html": [
       "<div>\n",
       "<style scoped>\n",
       "    .dataframe tbody tr th:only-of-type {\n",
       "        vertical-align: middle;\n",
       "    }\n",
       "\n",
       "    .dataframe tbody tr th {\n",
       "        vertical-align: top;\n",
       "    }\n",
       "\n",
       "    .dataframe thead th {\n",
       "        text-align: right;\n",
       "    }\n",
       "</style>\n",
       "<table border=\"1\" class=\"dataframe\">\n",
       "  <thead>\n",
       "    <tr style=\"text-align: right;\">\n",
       "      <th></th>\n",
       "      <th>MonthYear</th>\n",
       "      <th>CallsPerMonth</th>\n",
       "      <th>AverageTemperature</th>\n",
       "    </tr>\n",
       "  </thead>\n",
       "  <tbody>\n",
       "    <tr>\n",
       "      <th>215</th>\n",
       "      <td>201910</td>\n",
       "      <td>29209</td>\n",
       "      <td>63.1</td>\n",
       "    </tr>\n",
       "    <tr>\n",
       "      <th>46</th>\n",
       "      <td>202208</td>\n",
       "      <td>29150</td>\n",
       "      <td>63.2</td>\n",
       "    </tr>\n",
       "    <tr>\n",
       "      <th>74</th>\n",
       "      <td>202112</td>\n",
       "      <td>28748</td>\n",
       "      <td>50.8</td>\n",
       "    </tr>\n",
       "    <tr>\n",
       "      <th>235</th>\n",
       "      <td>201912</td>\n",
       "      <td>28630</td>\n",
       "      <td>53.6</td>\n",
       "    </tr>\n",
       "    <tr>\n",
       "      <th>131</th>\n",
       "      <td>201909</td>\n",
       "      <td>28521</td>\n",
       "      <td>65.1</td>\n",
       "    </tr>\n",
       "    <tr>\n",
       "      <th>...</th>\n",
       "      <td>...</td>\n",
       "      <td>...</td>\n",
       "      <td>...</td>\n",
       "    </tr>\n",
       "    <tr>\n",
       "      <th>80</th>\n",
       "      <td>200011</td>\n",
       "      <td>17501</td>\n",
       "      <td>53.8</td>\n",
       "    </tr>\n",
       "    <tr>\n",
       "      <th>223</th>\n",
       "      <td>200102</td>\n",
       "      <td>16968</td>\n",
       "      <td>52.1</td>\n",
       "    </tr>\n",
       "    <tr>\n",
       "      <th>94</th>\n",
       "      <td>200109</td>\n",
       "      <td>16800</td>\n",
       "      <td>61.0</td>\n",
       "    </tr>\n",
       "    <tr>\n",
       "      <th>54</th>\n",
       "      <td>202204</td>\n",
       "      <td>16067</td>\n",
       "      <td>55.7</td>\n",
       "    </tr>\n",
       "    <tr>\n",
       "      <th>92</th>\n",
       "      <td>200004</td>\n",
       "      <td>10059</td>\n",
       "      <td>57.1</td>\n",
       "    </tr>\n",
       "  </tbody>\n",
       "</table>\n",
       "<p>270 rows × 3 columns</p>\n",
       "</div>"
      ],
      "text/plain": [
       "    MonthYear  CallsPerMonth  AverageTemperature\n",
       "215    201910          29209                63.1\n",
       "46     202208          29150                63.2\n",
       "74     202112          28748                50.8\n",
       "235    201912          28630                53.6\n",
       "131    201909          28521                65.1\n",
       "..        ...            ...                 ...\n",
       "80     200011          17501                53.8\n",
       "223    200102          16968                52.1\n",
       "94     200109          16800                61.0\n",
       "54     202204          16067                55.7\n",
       "92     200004          10059                57.1\n",
       "\n",
       "[270 rows x 3 columns]"
      ]
     },
     "execution_count": 152,
     "metadata": {},
     "output_type": "execute_result"
    }
   ],
   "source": [
    "corr_graph.sort_values(by=['CallsPerMonth'], ascending=False)"
   ]
  },
  {
   "cell_type": "code",
   "execution_count": 153,
   "id": "3140242b-c3a3-4a6c-bb7a-8a36e888f94e",
   "metadata": {},
   "outputs": [
    {
     "data": {
      "text/plain": [
       "<seaborn.axisgrid.FacetGrid at 0x2836d2370>"
      ]
     },
     "execution_count": 153,
     "metadata": {},
     "output_type": "execute_result"
    },
    {
     "data": {
      "image/png": "[encoded data removed]",
      "text/plain": [
       "<Figure size 500x500 with 1 Axes>"
      ]
     },
     "metadata": {},
     "output_type": "display_data"
    }
   ],
   "source": [
    "import seaborn as sns\n",
    "sns.lmplot(x='AverageTemperature', y = 'CallsPerMonth' ,data= corr_graph)"
   ]
  },
  {
   "cell_type": "code",
   "execution_count": 154,
   "id": "d289873a-407e-42a6-8fbf-74ed1642b714",
   "metadata": {},
   "outputs": [
    {
     "name": "stderr",
     "output_type": "stream",
     "text": [
      "                                                                                \r"
     ]
    },
    {
     "data": {
      "text/plain": [
       "0.12863612894349857"
      ]
     },
     "execution_count": 154,
     "metadata": {},
     "output_type": "execute_result"
    },
    {
     "name": "stderr",
     "output_type": "stream",
     "text": [
      "----------------------------------------\n",
      "Exception occurred during processing of request from ('127.0.0.1', 60031)\n",
      "Traceback (most recent call last):\n",
      "  File \"/Users/Mjhon/opt/anaconda3/envs/saturnbase/lib/python3.9/socketserver.py\", line 316, in _handle_request_noblock\n",
      "    self.process_request(request, client_address)\n",
      "  File \"/Users/Mjhon/opt/anaconda3/envs/saturnbase/lib/python3.9/socketserver.py\", line 347, in process_request\n",
      "    self.finish_request(request, client_address)\n",
      "  File \"/Users/Mjhon/opt/anaconda3/envs/saturnbase/lib/python3.9/socketserver.py\", line 360, in finish_request\n",
      "    self.RequestHandlerClass(request, client_address, self)\n",
      "  File \"/Users/Mjhon/opt/anaconda3/envs/saturnbase/lib/python3.9/socketserver.py\", line 747, in __init__\n",
      "    self.handle()\n",
      "  File \"/Users/Mjhon/opt/anaconda3/envs/saturnbase/lib/python3.9/site-packages/pyspark/accumulators.py\", line 281, in handle\n",
      "    poll(accum_updates)\n",
      "  File \"/Users/Mjhon/opt/anaconda3/envs/saturnbase/lib/python3.9/site-packages/pyspark/accumulators.py\", line 253, in poll\n",
      "    if func():\n",
      "  File \"/Users/Mjhon/opt/anaconda3/envs/saturnbase/lib/python3.9/site-packages/pyspark/accumulators.py\", line 257, in accum_updates\n",
      "    num_updates = read_int(self.rfile)\n",
      "  File \"/Users/Mjhon/opt/anaconda3/envs/saturnbase/lib/python3.9/site-packages/pyspark/serializers.py\", line 595, in read_int\n",
      "    raise EOFError\n",
      "EOFError\n",
      "----------------------------------------\n"
     ]
    }
   ],
   "source": [
    "corr_df.stat.corr('CallsPerMonth', 'AverageTemperature')"
   ]
  },
  {
   "cell_type": "markdown",
   "id": "5a6afe10-a032-4534-ad20-467c3615b9ba",
   "metadata": {
    "tags": []
   },
   "source": [
    "#### There is a small positive correlation between Calls per month and average temperature per month"
   ]
  },
  {
   "cell_type": "code",
   "execution_count": null,
   "id": "39d4e60f-fbb5-4536-bfda-ec6f89a214f5",
   "metadata": {},
   "outputs": [],
   "source": []
  }
 ],
 "metadata": {
  "kernelspec": {
   "display_name": "Python 3 (ipykernel)",
   "language": "python",
   "name": "python3"
  },
  "language_info": {
   "codemirror_mode": {
    "name": "ipython",
    "version": 3
   },
   "file_extension": ".py",
   "mimetype": "text/x-python",
   "name": "python",
   "nbconvert_exporter": "python",
   "pygments_lexer": "ipython3",
   "version": "3.9.12"
  }
 },
 "nbformat": 4,
 "nbformat_minor": 5
}
